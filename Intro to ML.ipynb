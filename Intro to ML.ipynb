{
 "cells": [
  {
   "cell_type": "markdown",
   "id": "c9e17a5f",
   "metadata": {},
   "source": [
    "Supervised Learning\n",
    "\n",
    "- Regression : continuous numerical variable\n",
    "\n",
    "- Classification : class/category "
   ]
  },
  {
   "cell_type": "markdown",
   "id": "8228d6c3",
   "metadata": {},
   "source": [
    "##### Data Science Steps\n",
    "\n",
    "`Business Understanding`\n",
    "\n",
    "Health facility\n",
    "\n",
    " - What they do\n",
    "\n",
    "Treat cancer patients \n",
    "\n",
    "`Problem`\n",
    "Cancerous cells can either be benign or malignant. We want to be able to detect early if a cancer is malignant/benign.  \n",
    "\n",
    "\n",
    "`Data Understanding`\n",
    "Cancer dataset \n",
    "\n",
    "`Problem Framing`\n",
    "Create a ML model that can predict if a cancer cell is malignant or begnin given the properties of the cell. -  Classification Problem "
   ]
  },
  {
   "cell_type": "code",
   "execution_count": 1,
   "id": "c31fd630",
   "metadata": {},
   "outputs": [
    {
     "name": "stderr",
     "output_type": "stream",
     "text": [
      "C:\\Users\\aaginam\\AppData\\Local\\anaconda3\\Lib\\site-packages\\pandas\\core\\arrays\\masked.py:60: UserWarning: Pandas requires version '1.3.6' or newer of 'bottleneck' (version '1.3.5' currently installed).\n",
      "  from pandas.core import (\n"
     ]
    }
   ],
   "source": [
    "import pandas as pd\n",
    "import matplotlib.pyplot as plt\n",
    "import seaborn as sb\n",
    "\n",
    "%matplotlib inline\n",
    "\n",
    "import warnings\n",
    "warnings.filterwarnings('ignore')"
   ]
  },
  {
   "cell_type": "code",
   "execution_count": 2,
   "id": "6bcdb4e6",
   "metadata": {},
   "outputs": [],
   "source": [
    "df = pd.read_csv('cancer dataset.csv', sep=';')"
   ]
  },
  {
   "cell_type": "markdown",
   "id": "be488075",
   "metadata": {},
   "source": [
    "#### Data Profiling"
   ]
  },
  {
   "cell_type": "code",
   "execution_count": 3,
   "id": "33380201",
   "metadata": {
    "scrolled": true
   },
   "outputs": [
    {
     "data": {
      "text/html": [
       "<div>\n",
       "<style scoped>\n",
       "    .dataframe tbody tr th:only-of-type {\n",
       "        vertical-align: middle;\n",
       "    }\n",
       "\n",
       "    .dataframe tbody tr th {\n",
       "        vertical-align: top;\n",
       "    }\n",
       "\n",
       "    .dataframe thead th {\n",
       "        text-align: right;\n",
       "    }\n",
       "</style>\n",
       "<table border=\"1\" class=\"dataframe\">\n",
       "  <thead>\n",
       "    <tr style=\"text-align: right;\">\n",
       "      <th></th>\n",
       "      <th>clump</th>\n",
       "      <th>ucellsize</th>\n",
       "      <th>ucellshape</th>\n",
       "      <th>mgadhesion</th>\n",
       "      <th>sepics</th>\n",
       "      <th>bnuclei</th>\n",
       "      <th>bchromatin</th>\n",
       "      <th>normnucl</th>\n",
       "      <th>mitoses</th>\n",
       "      <th>classe</th>\n",
       "    </tr>\n",
       "  </thead>\n",
       "  <tbody>\n",
       "    <tr>\n",
       "      <th>0</th>\n",
       "      <td>4</td>\n",
       "      <td>1</td>\n",
       "      <td>1</td>\n",
       "      <td>1</td>\n",
       "      <td>2</td>\n",
       "      <td>3</td>\n",
       "      <td>1</td>\n",
       "      <td>1</td>\n",
       "      <td>1</td>\n",
       "      <td>begnin</td>\n",
       "    </tr>\n",
       "    <tr>\n",
       "      <th>1</th>\n",
       "      <td>1</td>\n",
       "      <td>5</td>\n",
       "      <td>8</td>\n",
       "      <td>6</td>\n",
       "      <td>5</td>\n",
       "      <td>8</td>\n",
       "      <td>7</td>\n",
       "      <td>10</td>\n",
       "      <td>1</td>\n",
       "      <td>malignant</td>\n",
       "    </tr>\n",
       "    <tr>\n",
       "      <th>2</th>\n",
       "      <td>3</td>\n",
       "      <td>2</td>\n",
       "      <td>2</td>\n",
       "      <td>3</td>\n",
       "      <td>2</td>\n",
       "      <td>1</td>\n",
       "      <td>1</td>\n",
       "      <td>1</td>\n",
       "      <td>1</td>\n",
       "      <td>begnin</td>\n",
       "    </tr>\n",
       "    <tr>\n",
       "      <th>3</th>\n",
       "      <td>3</td>\n",
       "      <td>1</td>\n",
       "      <td>1</td>\n",
       "      <td>3</td>\n",
       "      <td>8</td>\n",
       "      <td>1</td>\n",
       "      <td>5</td>\n",
       "      <td>8</td>\n",
       "      <td>1</td>\n",
       "      <td>begnin</td>\n",
       "    </tr>\n",
       "    <tr>\n",
       "      <th>4</th>\n",
       "      <td>10</td>\n",
       "      <td>4</td>\n",
       "      <td>6</td>\n",
       "      <td>1</td>\n",
       "      <td>2</td>\n",
       "      <td>10</td>\n",
       "      <td>5</td>\n",
       "      <td>3</td>\n",
       "      <td>1</td>\n",
       "      <td>malignant</td>\n",
       "    </tr>\n",
       "  </tbody>\n",
       "</table>\n",
       "</div>"
      ],
      "text/plain": [
       "   clump  ucellsize  ucellshape  mgadhesion  sepics  bnuclei  bchromatin  \\\n",
       "0      4          1           1           1       2        3           1   \n",
       "1      1          5           8           6       5        8           7   \n",
       "2      3          2           2           3       2        1           1   \n",
       "3      3          1           1           3       8        1           5   \n",
       "4     10          4           6           1       2       10           5   \n",
       "\n",
       "   normnucl  mitoses     classe  \n",
       "0         1        1     begnin  \n",
       "1        10        1  malignant  \n",
       "2         1        1     begnin  \n",
       "3         8        1     begnin  \n",
       "4         3        1  malignant  "
      ]
     },
     "execution_count": 3,
     "metadata": {},
     "output_type": "execute_result"
    }
   ],
   "source": [
    "df.head()"
   ]
  },
  {
   "cell_type": "code",
   "execution_count": 5,
   "id": "44fe5397",
   "metadata": {},
   "outputs": [
    {
     "data": {
      "text/plain": [
       "(300, 10)"
      ]
     },
     "execution_count": 5,
     "metadata": {},
     "output_type": "execute_result"
    }
   ],
   "source": [
    "df.shape"
   ]
  },
  {
   "cell_type": "markdown",
   "id": "374fbeba",
   "metadata": {},
   "source": [
    "There are 9 possible features"
   ]
  },
  {
   "cell_type": "code",
   "execution_count": 5,
   "id": "b74605f9",
   "metadata": {},
   "outputs": [
    {
     "name": "stdout",
     "output_type": "stream",
     "text": [
      "<class 'pandas.core.frame.DataFrame'>\n",
      "RangeIndex: 300 entries, 0 to 299\n",
      "Data columns (total 10 columns):\n",
      " #   Column      Non-Null Count  Dtype \n",
      "---  ------      --------------  ----- \n",
      " 0   clump       300 non-null    int64 \n",
      " 1   ucellsize   300 non-null    int64 \n",
      " 2   ucellshape  300 non-null    int64 \n",
      " 3   mgadhesion  300 non-null    int64 \n",
      " 4   sepics      300 non-null    int64 \n",
      " 5   bnuclei     300 non-null    int64 \n",
      " 6   bchromatin  300 non-null    int64 \n",
      " 7   normnucl    300 non-null    int64 \n",
      " 8   mitoses     300 non-null    int64 \n",
      " 9   classe      300 non-null    object\n",
      "dtypes: int64(9), object(1)\n",
      "memory usage: 23.6+ KB\n"
     ]
    }
   ],
   "source": [
    "df.info()"
   ]
  },
  {
   "cell_type": "code",
   "execution_count": 4,
   "id": "8b125609",
   "metadata": {},
   "outputs": [
    {
     "data": {
      "text/html": [
       "<div>\n",
       "<style scoped>\n",
       "    .dataframe tbody tr th:only-of-type {\n",
       "        vertical-align: middle;\n",
       "    }\n",
       "\n",
       "    .dataframe tbody tr th {\n",
       "        vertical-align: top;\n",
       "    }\n",
       "\n",
       "    .dataframe thead th {\n",
       "        text-align: right;\n",
       "    }\n",
       "</style>\n",
       "<table border=\"1\" class=\"dataframe\">\n",
       "  <thead>\n",
       "    <tr style=\"text-align: right;\">\n",
       "      <th></th>\n",
       "      <th>clump</th>\n",
       "      <th>ucellsize</th>\n",
       "      <th>ucellshape</th>\n",
       "      <th>mgadhesion</th>\n",
       "      <th>sepics</th>\n",
       "      <th>bnuclei</th>\n",
       "      <th>bchromatin</th>\n",
       "      <th>normnucl</th>\n",
       "      <th>mitoses</th>\n",
       "    </tr>\n",
       "  </thead>\n",
       "  <tbody>\n",
       "    <tr>\n",
       "      <th>count</th>\n",
       "      <td>300.000000</td>\n",
       "      <td>300.000000</td>\n",
       "      <td>300.000000</td>\n",
       "      <td>300.000000</td>\n",
       "      <td>300.000000</td>\n",
       "      <td>300.000000</td>\n",
       "      <td>300.000000</td>\n",
       "      <td>300.000000</td>\n",
       "      <td>300.000000</td>\n",
       "    </tr>\n",
       "    <tr>\n",
       "      <th>mean</th>\n",
       "      <td>4.436667</td>\n",
       "      <td>3.053333</td>\n",
       "      <td>3.216667</td>\n",
       "      <td>2.653333</td>\n",
       "      <td>3.236667</td>\n",
       "      <td>3.470000</td>\n",
       "      <td>3.360000</td>\n",
       "      <td>2.860000</td>\n",
       "      <td>1.616667</td>\n",
       "    </tr>\n",
       "    <tr>\n",
       "      <th>std</th>\n",
       "      <td>2.820017</td>\n",
       "      <td>2.997851</td>\n",
       "      <td>3.008859</td>\n",
       "      <td>2.710037</td>\n",
       "      <td>2.205342</td>\n",
       "      <td>3.561561</td>\n",
       "      <td>2.404789</td>\n",
       "      <td>3.114386</td>\n",
       "      <td>1.800146</td>\n",
       "    </tr>\n",
       "    <tr>\n",
       "      <th>min</th>\n",
       "      <td>1.000000</td>\n",
       "      <td>1.000000</td>\n",
       "      <td>1.000000</td>\n",
       "      <td>1.000000</td>\n",
       "      <td>1.000000</td>\n",
       "      <td>1.000000</td>\n",
       "      <td>1.000000</td>\n",
       "      <td>1.000000</td>\n",
       "      <td>1.000000</td>\n",
       "    </tr>\n",
       "    <tr>\n",
       "      <th>25%</th>\n",
       "      <td>2.000000</td>\n",
       "      <td>1.000000</td>\n",
       "      <td>1.000000</td>\n",
       "      <td>1.000000</td>\n",
       "      <td>2.000000</td>\n",
       "      <td>1.000000</td>\n",
       "      <td>2.000000</td>\n",
       "      <td>1.000000</td>\n",
       "      <td>1.000000</td>\n",
       "    </tr>\n",
       "    <tr>\n",
       "      <th>50%</th>\n",
       "      <td>4.000000</td>\n",
       "      <td>1.000000</td>\n",
       "      <td>1.000000</td>\n",
       "      <td>1.000000</td>\n",
       "      <td>2.000000</td>\n",
       "      <td>1.000000</td>\n",
       "      <td>3.000000</td>\n",
       "      <td>1.000000</td>\n",
       "      <td>1.000000</td>\n",
       "    </tr>\n",
       "    <tr>\n",
       "      <th>75%</th>\n",
       "      <td>6.000000</td>\n",
       "      <td>5.000000</td>\n",
       "      <td>5.000000</td>\n",
       "      <td>3.000000</td>\n",
       "      <td>4.000000</td>\n",
       "      <td>5.000000</td>\n",
       "      <td>4.000000</td>\n",
       "      <td>3.000000</td>\n",
       "      <td>1.000000</td>\n",
       "    </tr>\n",
       "    <tr>\n",
       "      <th>max</th>\n",
       "      <td>10.000000</td>\n",
       "      <td>10.000000</td>\n",
       "      <td>10.000000</td>\n",
       "      <td>10.000000</td>\n",
       "      <td>10.000000</td>\n",
       "      <td>10.000000</td>\n",
       "      <td>10.000000</td>\n",
       "      <td>10.000000</td>\n",
       "      <td>10.000000</td>\n",
       "    </tr>\n",
       "  </tbody>\n",
       "</table>\n",
       "</div>"
      ],
      "text/plain": [
       "            clump   ucellsize  ucellshape  mgadhesion      sepics     bnuclei  \\\n",
       "count  300.000000  300.000000  300.000000  300.000000  300.000000  300.000000   \n",
       "mean     4.436667    3.053333    3.216667    2.653333    3.236667    3.470000   \n",
       "std      2.820017    2.997851    3.008859    2.710037    2.205342    3.561561   \n",
       "min      1.000000    1.000000    1.000000    1.000000    1.000000    1.000000   \n",
       "25%      2.000000    1.000000    1.000000    1.000000    2.000000    1.000000   \n",
       "50%      4.000000    1.000000    1.000000    1.000000    2.000000    1.000000   \n",
       "75%      6.000000    5.000000    5.000000    3.000000    4.000000    5.000000   \n",
       "max     10.000000   10.000000   10.000000   10.000000   10.000000   10.000000   \n",
       "\n",
       "       bchromatin    normnucl     mitoses  \n",
       "count  300.000000  300.000000  300.000000  \n",
       "mean     3.360000    2.860000    1.616667  \n",
       "std      2.404789    3.114386    1.800146  \n",
       "min      1.000000    1.000000    1.000000  \n",
       "25%      2.000000    1.000000    1.000000  \n",
       "50%      3.000000    1.000000    1.000000  \n",
       "75%      4.000000    3.000000    1.000000  \n",
       "max     10.000000   10.000000   10.000000  "
      ]
     },
     "execution_count": 4,
     "metadata": {},
     "output_type": "execute_result"
    }
   ],
   "source": [
    "df.describe()"
   ]
  },
  {
   "cell_type": "markdown",
   "id": "e08f293e",
   "metadata": {},
   "source": [
    "- All the feature variables/columns have a min and max value of 1 and 10 respectively\n",
    "\n",
    "- All the features have similar descriptive characteristics"
   ]
  },
  {
   "cell_type": "code",
   "execution_count": 8,
   "id": "ed5d5789",
   "metadata": {},
   "outputs": [
    {
     "data": {
      "text/plain": [
       "classe\n",
       "begnin       199\n",
       "malignant    101\n",
       "Name: count, dtype: int64"
      ]
     },
     "execution_count": 8,
     "metadata": {},
     "output_type": "execute_result"
    }
   ],
   "source": [
    "df['classe'].value_counts()"
   ]
  },
  {
   "cell_type": "markdown",
   "id": "69e35cd3",
   "metadata": {},
   "source": [
    "- Class imbalance"
   ]
  },
  {
   "cell_type": "markdown",
   "id": "cb447c77",
   "metadata": {},
   "source": [
    "`Problems we want to avoid in ML`\n",
    "\n",
    "- overfitting: Model fits the training data perfectly such that it is not able to predict correctly on new data. High bias\n",
    "- underfitting : Model is not learning from the data at all such that when you give the model new data, it is going to predict incorrectly.\n",
    "\n",
    "`What we want`\n",
    "- Sweet spot : Model is neither underfitting or overfitting."
   ]
  },
  {
   "cell_type": "markdown",
   "id": "94772672",
   "metadata": {},
   "source": [
    "##### Data Cleaning"
   ]
  },
  {
   "cell_type": "code",
   "execution_count": 6,
   "id": "295aaba7",
   "metadata": {},
   "outputs": [
    {
     "data": {
      "text/plain": [
       "clump         0\n",
       "ucellsize     0\n",
       "ucellshape    0\n",
       "mgadhesion    0\n",
       "sepics        0\n",
       "bnuclei       0\n",
       "bchromatin    0\n",
       "normnucl      0\n",
       "mitoses       0\n",
       "classe        0\n",
       "dtype: int64"
      ]
     },
     "execution_count": 6,
     "metadata": {},
     "output_type": "execute_result"
    }
   ],
   "source": [
    "df.isnull().sum()"
   ]
  },
  {
   "cell_type": "code",
   "execution_count": 7,
   "id": "471f7a09",
   "metadata": {},
   "outputs": [
    {
     "data": {
      "text/plain": [
       "88"
      ]
     },
     "execution_count": 7,
     "metadata": {},
     "output_type": "execute_result"
    }
   ],
   "source": [
    "df.duplicated().sum()"
   ]
  },
  {
   "cell_type": "code",
   "execution_count": 8,
   "id": "326cd994",
   "metadata": {},
   "outputs": [],
   "source": [
    "features = df.drop('classe', axis=1)"
   ]
  },
  {
   "cell_type": "code",
   "execution_count": 9,
   "id": "4fc4ade1",
   "metadata": {},
   "outputs": [],
   "source": [
    "label = df['classe']"
   ]
  },
  {
   "cell_type": "code",
   "execution_count": 10,
   "id": "e1a313f2",
   "metadata": {},
   "outputs": [
    {
     "data": {
      "text/html": [
       "<div>\n",
       "<style scoped>\n",
       "    .dataframe tbody tr th:only-of-type {\n",
       "        vertical-align: middle;\n",
       "    }\n",
       "\n",
       "    .dataframe tbody tr th {\n",
       "        vertical-align: top;\n",
       "    }\n",
       "\n",
       "    .dataframe thead th {\n",
       "        text-align: right;\n",
       "    }\n",
       "</style>\n",
       "<table border=\"1\" class=\"dataframe\">\n",
       "  <thead>\n",
       "    <tr style=\"text-align: right;\">\n",
       "      <th></th>\n",
       "      <th>clump</th>\n",
       "      <th>ucellsize</th>\n",
       "      <th>ucellshape</th>\n",
       "      <th>mgadhesion</th>\n",
       "      <th>sepics</th>\n",
       "      <th>bnuclei</th>\n",
       "      <th>bchromatin</th>\n",
       "      <th>normnucl</th>\n",
       "      <th>mitoses</th>\n",
       "    </tr>\n",
       "  </thead>\n",
       "  <tbody>\n",
       "    <tr>\n",
       "      <th>0</th>\n",
       "      <td>4</td>\n",
       "      <td>1</td>\n",
       "      <td>1</td>\n",
       "      <td>1</td>\n",
       "      <td>2</td>\n",
       "      <td>3</td>\n",
       "      <td>1</td>\n",
       "      <td>1</td>\n",
       "      <td>1</td>\n",
       "    </tr>\n",
       "    <tr>\n",
       "      <th>1</th>\n",
       "      <td>1</td>\n",
       "      <td>5</td>\n",
       "      <td>8</td>\n",
       "      <td>6</td>\n",
       "      <td>5</td>\n",
       "      <td>8</td>\n",
       "      <td>7</td>\n",
       "      <td>10</td>\n",
       "      <td>1</td>\n",
       "    </tr>\n",
       "    <tr>\n",
       "      <th>2</th>\n",
       "      <td>3</td>\n",
       "      <td>2</td>\n",
       "      <td>2</td>\n",
       "      <td>3</td>\n",
       "      <td>2</td>\n",
       "      <td>1</td>\n",
       "      <td>1</td>\n",
       "      <td>1</td>\n",
       "      <td>1</td>\n",
       "    </tr>\n",
       "    <tr>\n",
       "      <th>3</th>\n",
       "      <td>3</td>\n",
       "      <td>1</td>\n",
       "      <td>1</td>\n",
       "      <td>3</td>\n",
       "      <td>8</td>\n",
       "      <td>1</td>\n",
       "      <td>5</td>\n",
       "      <td>8</td>\n",
       "      <td>1</td>\n",
       "    </tr>\n",
       "    <tr>\n",
       "      <th>4</th>\n",
       "      <td>10</td>\n",
       "      <td>4</td>\n",
       "      <td>6</td>\n",
       "      <td>1</td>\n",
       "      <td>2</td>\n",
       "      <td>10</td>\n",
       "      <td>5</td>\n",
       "      <td>3</td>\n",
       "      <td>1</td>\n",
       "    </tr>\n",
       "    <tr>\n",
       "      <th>...</th>\n",
       "      <td>...</td>\n",
       "      <td>...</td>\n",
       "      <td>...</td>\n",
       "      <td>...</td>\n",
       "      <td>...</td>\n",
       "      <td>...</td>\n",
       "      <td>...</td>\n",
       "      <td>...</td>\n",
       "      <td>...</td>\n",
       "    </tr>\n",
       "    <tr>\n",
       "      <th>295</th>\n",
       "      <td>4</td>\n",
       "      <td>1</td>\n",
       "      <td>1</td>\n",
       "      <td>1</td>\n",
       "      <td>2</td>\n",
       "      <td>1</td>\n",
       "      <td>3</td>\n",
       "      <td>1</td>\n",
       "      <td>1</td>\n",
       "    </tr>\n",
       "    <tr>\n",
       "      <th>296</th>\n",
       "      <td>5</td>\n",
       "      <td>1</td>\n",
       "      <td>1</td>\n",
       "      <td>4</td>\n",
       "      <td>2</td>\n",
       "      <td>1</td>\n",
       "      <td>3</td>\n",
       "      <td>1</td>\n",
       "      <td>1</td>\n",
       "    </tr>\n",
       "    <tr>\n",
       "      <th>297</th>\n",
       "      <td>5</td>\n",
       "      <td>1</td>\n",
       "      <td>1</td>\n",
       "      <td>1</td>\n",
       "      <td>2</td>\n",
       "      <td>1</td>\n",
       "      <td>2</td>\n",
       "      <td>1</td>\n",
       "      <td>1</td>\n",
       "    </tr>\n",
       "    <tr>\n",
       "      <th>298</th>\n",
       "      <td>5</td>\n",
       "      <td>7</td>\n",
       "      <td>9</td>\n",
       "      <td>8</td>\n",
       "      <td>6</td>\n",
       "      <td>10</td>\n",
       "      <td>8</td>\n",
       "      <td>10</td>\n",
       "      <td>1</td>\n",
       "    </tr>\n",
       "    <tr>\n",
       "      <th>299</th>\n",
       "      <td>5</td>\n",
       "      <td>1</td>\n",
       "      <td>1</td>\n",
       "      <td>1</td>\n",
       "      <td>2</td>\n",
       "      <td>1</td>\n",
       "      <td>2</td>\n",
       "      <td>1</td>\n",
       "      <td>1</td>\n",
       "    </tr>\n",
       "  </tbody>\n",
       "</table>\n",
       "<p>300 rows × 9 columns</p>\n",
       "</div>"
      ],
      "text/plain": [
       "     clump  ucellsize  ucellshape  mgadhesion  sepics  bnuclei  bchromatin  \\\n",
       "0        4          1           1           1       2        3           1   \n",
       "1        1          5           8           6       5        8           7   \n",
       "2        3          2           2           3       2        1           1   \n",
       "3        3          1           1           3       8        1           5   \n",
       "4       10          4           6           1       2       10           5   \n",
       "..     ...        ...         ...         ...     ...      ...         ...   \n",
       "295      4          1           1           1       2        1           3   \n",
       "296      5          1           1           4       2        1           3   \n",
       "297      5          1           1           1       2        1           2   \n",
       "298      5          7           9           8       6       10           8   \n",
       "299      5          1           1           1       2        1           2   \n",
       "\n",
       "     normnucl  mitoses  \n",
       "0           1        1  \n",
       "1          10        1  \n",
       "2           1        1  \n",
       "3           8        1  \n",
       "4           3        1  \n",
       "..        ...      ...  \n",
       "295         1        1  \n",
       "296         1        1  \n",
       "297         1        1  \n",
       "298        10        1  \n",
       "299         1        1  \n",
       "\n",
       "[300 rows x 9 columns]"
      ]
     },
     "execution_count": 10,
     "metadata": {},
     "output_type": "execute_result"
    }
   ],
   "source": [
    "features"
   ]
  },
  {
   "cell_type": "code",
   "execution_count": 11,
   "id": "4bf1206c",
   "metadata": {},
   "outputs": [
    {
     "data": {
      "text/plain": [
       "0         begnin\n",
       "1      malignant\n",
       "2         begnin\n",
       "3         begnin\n",
       "4      malignant\n",
       "         ...    \n",
       "295       begnin\n",
       "296       begnin\n",
       "297       begnin\n",
       "298    malignant\n",
       "299       begnin\n",
       "Name: classe, Length: 300, dtype: object"
      ]
     },
     "execution_count": 11,
     "metadata": {},
     "output_type": "execute_result"
    }
   ],
   "source": [
    "label"
   ]
  },
  {
   "cell_type": "markdown",
   "id": "988013f9",
   "metadata": {},
   "source": [
    "##### Feature Selection"
   ]
  },
  {
   "cell_type": "code",
   "execution_count": 26,
   "id": "0e19b970",
   "metadata": {},
   "outputs": [
    {
     "data": {
      "text/plain": [
       "<Figure size 1000x600 with 0 Axes>"
      ]
     },
     "metadata": {},
     "output_type": "display_data"
    },
    {
     "data": {
      "image/png": "[encoded data removed]",
      "text/plain": [
       "<Figure size 640x480 with 1 Axes>"
      ]
     },
     "metadata": {},
     "output_type": "display_data"
    },
    {
     "data": {
      "image/png": "[encoded data removed]",
      "text/plain": [
       "<Figure size 640x480 with 1 Axes>"
      ]
     },
     "metadata": {},
     "output_type": "display_data"
    },
    {
     "data": {
      "image/png": "[encoded data removed]",
      "text/plain": [
       "<Figure size 640x480 with 1 Axes>"
      ]
     },
     "metadata": {},
     "output_type": "display_data"
    },
    {
     "data": {
      "image/png": "[encoded data removed]",
      "text/plain": [
       "<Figure size 640x480 with 1 Axes>"
      ]
     },
     "metadata": {},
     "output_type": "display_data"
    },
    {
     "data": {
      "image/png": "[encoded data removed]",
      "text/plain": [
       "<Figure size 640x480 with 1 Axes>"
      ]
     },
     "metadata": {},
     "output_type": "display_data"
    },
    {
     "data": {
      "image/png": "[encoded data removed]",
      "text/plain": [
       "<Figure size 640x480 with 1 Axes>"
      ]
     },
     "metadata": {},
     "output_type": "display_data"
    },
    {
     "data": {
      "image/png": "[encoded data removed]",
      "text/plain": [
       "<Figure size 640x480 with 1 Axes>"
      ]
     },
     "metadata": {},
     "output_type": "display_data"
    },
    {
     "data": {
      "image/png": "[encoded data removed]",
      "text/plain": [
       "<Figure size 640x480 with 1 Axes>"
      ]
     },
     "metadata": {},
     "output_type": "display_data"
    },
    {
     "data": {
      "image/png": "[encoded data removed]",
      "text/plain": [
       "<Figure size 640x480 with 1 Axes>"
      ]
     },
     "metadata": {},
     "output_type": "display_data"
    }
   ],
   "source": [
    "plt.figure(figsize=(10,6))\n",
    "\n",
    "for col in features.columns:\n",
    "    df.boxplot(column=col, by='classe')\n",
    "    plt.title(f'Boxplot of {col}')\n",
    "    plt.show()"
   ]
  },
  {
   "cell_type": "markdown",
   "id": "4a641fdc",
   "metadata": {},
   "source": [
    " ucellshape, ucellsize, sepics, bnuclei, mitosis, normnuci show marked difference between the two classes and could good predictor/features"
   ]
  },
  {
   "cell_type": "code",
   "execution_count": 27,
   "id": "e5d5713b",
   "metadata": {},
   "outputs": [
    {
     "data": {
      "text/html": [
       "<div>\n",
       "<style scoped>\n",
       "    .dataframe tbody tr th:only-of-type {\n",
       "        vertical-align: middle;\n",
       "    }\n",
       "\n",
       "    .dataframe tbody tr th {\n",
       "        vertical-align: top;\n",
       "    }\n",
       "\n",
       "    .dataframe thead th {\n",
       "        text-align: right;\n",
       "    }\n",
       "</style>\n",
       "<table border=\"1\" class=\"dataframe\">\n",
       "  <thead>\n",
       "    <tr style=\"text-align: right;\">\n",
       "      <th></th>\n",
       "      <th>clump</th>\n",
       "      <th>ucellsize</th>\n",
       "      <th>ucellshape</th>\n",
       "      <th>mgadhesion</th>\n",
       "      <th>sepics</th>\n",
       "      <th>bnuclei</th>\n",
       "      <th>bchromatin</th>\n",
       "      <th>normnucl</th>\n",
       "      <th>mitoses</th>\n",
       "    </tr>\n",
       "  </thead>\n",
       "  <tbody>\n",
       "    <tr>\n",
       "      <th>clump</th>\n",
       "      <td>1.000000</td>\n",
       "      <td>0.672937</td>\n",
       "      <td>0.675443</td>\n",
       "      <td>0.499073</td>\n",
       "      <td>0.532396</td>\n",
       "      <td>0.588211</td>\n",
       "      <td>0.501972</td>\n",
       "      <td>0.503556</td>\n",
       "      <td>0.415202</td>\n",
       "    </tr>\n",
       "    <tr>\n",
       "      <th>ucellsize</th>\n",
       "      <td>0.672937</td>\n",
       "      <td>1.000000</td>\n",
       "      <td>0.907127</td>\n",
       "      <td>0.661358</td>\n",
       "      <td>0.742732</td>\n",
       "      <td>0.654824</td>\n",
       "      <td>0.701556</td>\n",
       "      <td>0.669952</td>\n",
       "      <td>0.402295</td>\n",
       "    </tr>\n",
       "    <tr>\n",
       "      <th>ucellshape</th>\n",
       "      <td>0.675443</td>\n",
       "      <td>0.907127</td>\n",
       "      <td>1.000000</td>\n",
       "      <td>0.680672</td>\n",
       "      <td>0.729633</td>\n",
       "      <td>0.700169</td>\n",
       "      <td>0.676045</td>\n",
       "      <td>0.674589</td>\n",
       "      <td>0.435886</td>\n",
       "    </tr>\n",
       "    <tr>\n",
       "      <th>mgadhesion</th>\n",
       "      <td>0.499073</td>\n",
       "      <td>0.661358</td>\n",
       "      <td>0.680672</td>\n",
       "      <td>1.000000</td>\n",
       "      <td>0.601913</td>\n",
       "      <td>0.665254</td>\n",
       "      <td>0.626315</td>\n",
       "      <td>0.602095</td>\n",
       "      <td>0.441592</td>\n",
       "    </tr>\n",
       "    <tr>\n",
       "      <th>sepics</th>\n",
       "      <td>0.532396</td>\n",
       "      <td>0.742732</td>\n",
       "      <td>0.729633</td>\n",
       "      <td>0.601913</td>\n",
       "      <td>1.000000</td>\n",
       "      <td>0.590011</td>\n",
       "      <td>0.560909</td>\n",
       "      <td>0.681695</td>\n",
       "      <td>0.461004</td>\n",
       "    </tr>\n",
       "    <tr>\n",
       "      <th>bnuclei</th>\n",
       "      <td>0.588211</td>\n",
       "      <td>0.654824</td>\n",
       "      <td>0.700169</td>\n",
       "      <td>0.665254</td>\n",
       "      <td>0.590011</td>\n",
       "      <td>1.000000</td>\n",
       "      <td>0.638157</td>\n",
       "      <td>0.562859</td>\n",
       "      <td>0.361009</td>\n",
       "    </tr>\n",
       "    <tr>\n",
       "      <th>bchromatin</th>\n",
       "      <td>0.501972</td>\n",
       "      <td>0.701556</td>\n",
       "      <td>0.676045</td>\n",
       "      <td>0.626315</td>\n",
       "      <td>0.560909</td>\n",
       "      <td>0.638157</td>\n",
       "      <td>1.000000</td>\n",
       "      <td>0.584600</td>\n",
       "      <td>0.279211</td>\n",
       "    </tr>\n",
       "    <tr>\n",
       "      <th>normnucl</th>\n",
       "      <td>0.503556</td>\n",
       "      <td>0.669952</td>\n",
       "      <td>0.674589</td>\n",
       "      <td>0.602095</td>\n",
       "      <td>0.681695</td>\n",
       "      <td>0.562859</td>\n",
       "      <td>0.584600</td>\n",
       "      <td>1.000000</td>\n",
       "      <td>0.467041</td>\n",
       "    </tr>\n",
       "    <tr>\n",
       "      <th>mitoses</th>\n",
       "      <td>0.415202</td>\n",
       "      <td>0.402295</td>\n",
       "      <td>0.435886</td>\n",
       "      <td>0.441592</td>\n",
       "      <td>0.461004</td>\n",
       "      <td>0.361009</td>\n",
       "      <td>0.279211</td>\n",
       "      <td>0.467041</td>\n",
       "      <td>1.000000</td>\n",
       "    </tr>\n",
       "  </tbody>\n",
       "</table>\n",
       "</div>"
      ],
      "text/plain": [
       "               clump  ucellsize  ucellshape  mgadhesion    sepics   bnuclei  \\\n",
       "clump       1.000000   0.672937    0.675443    0.499073  0.532396  0.588211   \n",
       "ucellsize   0.672937   1.000000    0.907127    0.661358  0.742732  0.654824   \n",
       "ucellshape  0.675443   0.907127    1.000000    0.680672  0.729633  0.700169   \n",
       "mgadhesion  0.499073   0.661358    0.680672    1.000000  0.601913  0.665254   \n",
       "sepics      0.532396   0.742732    0.729633    0.601913  1.000000  0.590011   \n",
       "bnuclei     0.588211   0.654824    0.700169    0.665254  0.590011  1.000000   \n",
       "bchromatin  0.501972   0.701556    0.676045    0.626315  0.560909  0.638157   \n",
       "normnucl    0.503556   0.669952    0.674589    0.602095  0.681695  0.562859   \n",
       "mitoses     0.415202   0.402295    0.435886    0.441592  0.461004  0.361009   \n",
       "\n",
       "            bchromatin  normnucl   mitoses  \n",
       "clump         0.501972  0.503556  0.415202  \n",
       "ucellsize     0.701556  0.669952  0.402295  \n",
       "ucellshape    0.676045  0.674589  0.435886  \n",
       "mgadhesion    0.626315  0.602095  0.441592  \n",
       "sepics        0.560909  0.681695  0.461004  \n",
       "bnuclei       0.638157  0.562859  0.361009  \n",
       "bchromatin    1.000000  0.584600  0.279211  \n",
       "normnucl      0.584600  1.000000  0.467041  \n",
       "mitoses       0.279211  0.467041  1.000000  "
      ]
     },
     "execution_count": 27,
     "metadata": {},
     "output_type": "execute_result"
    }
   ],
   "source": [
    "## correlation\n",
    "\n",
    "features.corr()\n",
    "x1, x2, x3 -> Y"
   ]
  },
  {
   "cell_type": "markdown",
   "id": "d0ad4739",
   "metadata": {},
   "source": [
    "correlation varies from -1 to 1\n",
    "\n",
    "-1 : perfectly negatively\n",
    "0 : No correlation\n",
    "1 : perfectly positive"
   ]
  },
  {
   "cell_type": "code",
   "execution_count": 12,
   "id": "971e6f00",
   "metadata": {},
   "outputs": [
    {
     "data": {
      "text/html": [
       "<div>\n",
       "<style scoped>\n",
       "    .dataframe tbody tr th:only-of-type {\n",
       "        vertical-align: middle;\n",
       "    }\n",
       "\n",
       "    .dataframe tbody tr th {\n",
       "        vertical-align: top;\n",
       "    }\n",
       "\n",
       "    .dataframe thead th {\n",
       "        text-align: right;\n",
       "    }\n",
       "</style>\n",
       "<table border=\"1\" class=\"dataframe\">\n",
       "  <thead>\n",
       "    <tr style=\"text-align: right;\">\n",
       "      <th></th>\n",
       "      <th>clump</th>\n",
       "      <th>ucellsize</th>\n",
       "      <th>ucellshape</th>\n",
       "      <th>mgadhesion</th>\n",
       "      <th>sepics</th>\n",
       "      <th>bnuclei</th>\n",
       "      <th>bchromatin</th>\n",
       "      <th>normnucl</th>\n",
       "      <th>mitoses</th>\n",
       "    </tr>\n",
       "  </thead>\n",
       "  <tbody>\n",
       "    <tr>\n",
       "      <th>0</th>\n",
       "      <td>4</td>\n",
       "      <td>1</td>\n",
       "      <td>1</td>\n",
       "      <td>1</td>\n",
       "      <td>2</td>\n",
       "      <td>3</td>\n",
       "      <td>1</td>\n",
       "      <td>1</td>\n",
       "      <td>1</td>\n",
       "    </tr>\n",
       "    <tr>\n",
       "      <th>1</th>\n",
       "      <td>1</td>\n",
       "      <td>5</td>\n",
       "      <td>8</td>\n",
       "      <td>6</td>\n",
       "      <td>5</td>\n",
       "      <td>8</td>\n",
       "      <td>7</td>\n",
       "      <td>10</td>\n",
       "      <td>1</td>\n",
       "    </tr>\n",
       "    <tr>\n",
       "      <th>2</th>\n",
       "      <td>3</td>\n",
       "      <td>2</td>\n",
       "      <td>2</td>\n",
       "      <td>3</td>\n",
       "      <td>2</td>\n",
       "      <td>1</td>\n",
       "      <td>1</td>\n",
       "      <td>1</td>\n",
       "      <td>1</td>\n",
       "    </tr>\n",
       "    <tr>\n",
       "      <th>3</th>\n",
       "      <td>3</td>\n",
       "      <td>1</td>\n",
       "      <td>1</td>\n",
       "      <td>3</td>\n",
       "      <td>8</td>\n",
       "      <td>1</td>\n",
       "      <td>5</td>\n",
       "      <td>8</td>\n",
       "      <td>1</td>\n",
       "    </tr>\n",
       "    <tr>\n",
       "      <th>4</th>\n",
       "      <td>10</td>\n",
       "      <td>4</td>\n",
       "      <td>6</td>\n",
       "      <td>1</td>\n",
       "      <td>2</td>\n",
       "      <td>10</td>\n",
       "      <td>5</td>\n",
       "      <td>3</td>\n",
       "      <td>1</td>\n",
       "    </tr>\n",
       "  </tbody>\n",
       "</table>\n",
       "</div>"
      ],
      "text/plain": [
       "   clump  ucellsize  ucellshape  mgadhesion  sepics  bnuclei  bchromatin  \\\n",
       "0      4          1           1           1       2        3           1   \n",
       "1      1          5           8           6       5        8           7   \n",
       "2      3          2           2           3       2        1           1   \n",
       "3      3          1           1           3       8        1           5   \n",
       "4     10          4           6           1       2       10           5   \n",
       "\n",
       "   normnucl  mitoses  \n",
       "0         1        1  \n",
       "1        10        1  \n",
       "2         1        1  \n",
       "3         8        1  \n",
       "4         3        1  "
      ]
     },
     "execution_count": 12,
     "metadata": {},
     "output_type": "execute_result"
    }
   ],
   "source": [
    "features.head()"
   ]
  },
  {
   "cell_type": "code",
   "execution_count": 13,
   "id": "1e92218d",
   "metadata": {},
   "outputs": [],
   "source": [
    "from sklearn.feature_selection import SelectKBest\n",
    "from sklearn.feature_selection import f_classif\n",
    "\n",
    "fs = SelectKBest(score_func=f_classif, k=3)\n",
    "X_selected = fs.fit_transform(features.values, label)"
   ]
  },
  {
   "cell_type": "code",
   "execution_count": 14,
   "id": "a3639d11",
   "metadata": {},
   "outputs": [
    {
     "data": {
      "text/plain": [
       "array([[ 1,  1,  3],\n",
       "       [ 5,  8,  8],\n",
       "       [ 2,  2,  1],\n",
       "       [ 1,  1,  1],\n",
       "       [ 4,  6, 10],\n",
       "       [ 5,  7,  7],\n",
       "       [ 3,  3,  2],\n",
       "       [10, 10,  8],\n",
       "       [ 5,  6,  8],\n",
       "       [ 3,  2, 10],\n",
       "       [ 1,  1,  1],\n",
       "       [ 2,  3,  1],\n",
       "       [ 4,  5,  4],\n",
       "       [ 1,  1,  1],\n",
       "       [ 3,  4,  5],\n",
       "       [ 1,  1,  1],\n",
       "       [ 3,  5,  3],\n",
       "       [ 1,  1,  1],\n",
       "       [ 1,  1,  1],\n",
       "       [ 1,  1,  1],\n",
       "       [ 1,  1,  1],\n",
       "       [ 7, 10, 10],\n",
       "       [ 1,  1,  1],\n",
       "       [ 1,  1,  4],\n",
       "       [ 1,  1,  1],\n",
       "       [ 1,  2,  1],\n",
       "       [ 1,  1,  1],\n",
       "       [ 1,  1,  1],\n",
       "       [ 6,  6, 10],\n",
       "       [ 1,  1,  1],\n",
       "       [ 5,  5, 10],\n",
       "       [ 2,  3,  1],\n",
       "       [ 1,  1,  1],\n",
       "       [ 1,  1,  1],\n",
       "       [ 1,  2,  1],\n",
       "       [ 7,  4,  3],\n",
       "       [ 5,  7, 10],\n",
       "       [ 3,  4,  2],\n",
       "       [ 1,  1,  1],\n",
       "       [ 8,  8,  4],\n",
       "       [ 3,  4, 10],\n",
       "       [ 1,  1,  1],\n",
       "       [ 3,  2,  3],\n",
       "       [ 2,  4, 10],\n",
       "       [ 1,  3,  1],\n",
       "       [ 1,  1,  1],\n",
       "       [10,  9,  5],\n",
       "       [ 3,  1,  1],\n",
       "       [ 2,  1,  2],\n",
       "       [ 1,  1,  1],\n",
       "       [ 1,  1,  1],\n",
       "       [ 1,  3,  1],\n",
       "       [ 2,  2,  1],\n",
       "       [ 1,  1,  1],\n",
       "       [ 8,  7,  8],\n",
       "       [ 6,  3, 10],\n",
       "       [ 7,  8, 10],\n",
       "       [ 1,  1,  1],\n",
       "       [ 1,  1,  1],\n",
       "       [ 1,  1,  1],\n",
       "       [10, 10,  1],\n",
       "       [ 1,  1,  1],\n",
       "       [ 1,  1,  1],\n",
       "       [ 1,  1,  1],\n",
       "       [ 3,  4,  1],\n",
       "       [ 3,  3,  3],\n",
       "       [ 8,  9, 10],\n",
       "       [ 1,  1,  1],\n",
       "       [ 2,  2,  1],\n",
       "       [ 1,  1,  1],\n",
       "       [ 1,  1,  1],\n",
       "       [ 8,  6,  4],\n",
       "       [ 1,  1,  1],\n",
       "       [10, 10, 10],\n",
       "       [10, 10, 10],\n",
       "       [10, 10, 10],\n",
       "       [10,  5, 10],\n",
       "       [ 1,  1,  1],\n",
       "       [ 1,  1,  1],\n",
       "       [ 1,  1,  4],\n",
       "       [10, 10,  4],\n",
       "       [10, 10, 10],\n",
       "       [ 1,  1,  1],\n",
       "       [ 6,  9,  6],\n",
       "       [ 2,  1,  1],\n",
       "       [ 1,  1,  1],\n",
       "       [10,  5,  4],\n",
       "       [ 1,  1,  1],\n",
       "       [ 1,  1,  1],\n",
       "       [10, 10,  9],\n",
       "       [ 1,  1,  1],\n",
       "       [ 1,  1,  1],\n",
       "       [ 2,  2,  1],\n",
       "       [ 1,  1,  1],\n",
       "       [10,  8,  5],\n",
       "       [ 1,  1,  1],\n",
       "       [ 8,  7,  8],\n",
       "       [ 7,  4,  1],\n",
       "       [ 1,  1,  1],\n",
       "       [ 3,  4, 10],\n",
       "       [ 1,  1,  1],\n",
       "       [ 1,  3,  4],\n",
       "       [ 1,  1,  1],\n",
       "       [ 2,  2,  1],\n",
       "       [ 6,  4,  9],\n",
       "       [ 2,  4,  1],\n",
       "       [ 6,  4, 10],\n",
       "       [10,  3,  4],\n",
       "       [ 2,  1,  1],\n",
       "       [ 1,  1,  1],\n",
       "       [ 1,  1, 10],\n",
       "       [ 3,  6,  5],\n",
       "       [ 1,  4,  1],\n",
       "       [ 1,  1,  1],\n",
       "       [ 7,  7, 10],\n",
       "       [ 1,  1,  1],\n",
       "       [ 1,  1,  1],\n",
       "       [ 1,  1,  1],\n",
       "       [ 2,  2,  1],\n",
       "       [ 1,  1,  1],\n",
       "       [ 9,  7,  8],\n",
       "       [ 1,  1,  1],\n",
       "       [ 2,  1,  1],\n",
       "       [ 1,  1,  3],\n",
       "       [10, 10, 10],\n",
       "       [ 1,  1,  1],\n",
       "       [10, 10,  5],\n",
       "       [ 6,  6, 10],\n",
       "       [ 5,  8,  3],\n",
       "       [ 1,  1,  1],\n",
       "       [ 6,  6, 10],\n",
       "       [ 7,  8,  5],\n",
       "       [ 1,  1,  4],\n",
       "       [ 1,  1,  1],\n",
       "       [ 1,  2,  1],\n",
       "       [ 8,  8,  5],\n",
       "       [ 1,  1,  2],\n",
       "       [ 1,  1,  1],\n",
       "       [ 1,  1,  4],\n",
       "       [ 1,  1,  1],\n",
       "       [ 4,  5, 10],\n",
       "       [ 1,  3,  1],\n",
       "       [ 5,  5, 10],\n",
       "       [ 3,  3, 10],\n",
       "       [ 1,  1,  1],\n",
       "       [ 5,  7,  9],\n",
       "       [ 3,  5, 10],\n",
       "       [ 2,  3,  7],\n",
       "       [ 1,  1,  1],\n",
       "       [ 1,  1,  1],\n",
       "       [ 4,  6,  7],\n",
       "       [ 1,  1,  1],\n",
       "       [ 2,  3,  1],\n",
       "       [ 4,  5,  3],\n",
       "       [ 3,  5, 10],\n",
       "       [ 1,  1,  5],\n",
       "       [10, 10,  1],\n",
       "       [ 1,  1,  1],\n",
       "       [ 1,  2,  1],\n",
       "       [ 1,  2,  5],\n",
       "       [ 1,  1,  1],\n",
       "       [ 2,  1,  2],\n",
       "       [10, 10, 10],\n",
       "       [ 8,  9, 10],\n",
       "       [10, 10,  1],\n",
       "       [10, 10, 10],\n",
       "       [10, 10,  8],\n",
       "       [10, 10, 10],\n",
       "       [ 1,  3,  4],\n",
       "       [ 2,  1,  1],\n",
       "       [ 1,  1,  1],\n",
       "       [ 1,  1,  1],\n",
       "       [ 1,  2,  1],\n",
       "       [ 1,  1,  1],\n",
       "       [ 1,  1,  1],\n",
       "       [ 1,  1,  1],\n",
       "       [ 1,  1,  1],\n",
       "       [ 1,  1,  1],\n",
       "       [ 1,  1,  1],\n",
       "       [ 2,  3,  8],\n",
       "       [10,  8,  1],\n",
       "       [ 1,  1,  1],\n",
       "       [ 1,  3,  1],\n",
       "       [ 1,  1,  1],\n",
       "       [10, 10,  1],\n",
       "       [ 4,  2,  2],\n",
       "       [ 1,  1,  1],\n",
       "       [ 1,  1,  1],\n",
       "       [ 1,  1,  1],\n",
       "       [ 5,  6, 10],\n",
       "       [ 1,  1,  1],\n",
       "       [ 1,  1,  3],\n",
       "       [ 1,  1,  1],\n",
       "       [ 1,  1,  1],\n",
       "       [ 1,  1,  1],\n",
       "       [ 1,  1,  1],\n",
       "       [ 3,  1,  1],\n",
       "       [ 1,  1,  1],\n",
       "       [ 4,  5,  1],\n",
       "       [10, 10,  5],\n",
       "       [ 3,  1,  2],\n",
       "       [ 3,  2,  1],\n",
       "       [ 3,  2, 10],\n",
       "       [ 1,  1,  1],\n",
       "       [ 1,  1,  1],\n",
       "       [ 4,  7,  8],\n",
       "       [ 6,  7, 10],\n",
       "       [10, 10,  5],\n",
       "       [ 1,  1,  1],\n",
       "       [ 1,  3,  1],\n",
       "       [ 1,  1,  1],\n",
       "       [ 1,  1,  1],\n",
       "       [ 3,  4, 10],\n",
       "       [ 1,  1,  2],\n",
       "       [ 5, 10,  8],\n",
       "       [ 1,  1,  1],\n",
       "       [ 2,  4,  2],\n",
       "       [ 6,  4,  4],\n",
       "       [ 5,  6, 10],\n",
       "       [ 1,  1,  1],\n",
       "       [ 1,  2,  2],\n",
       "       [ 7, 10, 10],\n",
       "       [ 1,  1,  1],\n",
       "       [ 1,  1,  1],\n",
       "       [ 5,  3, 10],\n",
       "       [ 1,  3,  2],\n",
       "       [ 1,  1,  1],\n",
       "       [ 1,  3,  1],\n",
       "       [ 1,  1,  1],\n",
       "       [ 4,  6,  1],\n",
       "       [ 1,  1,  1],\n",
       "       [ 1,  1,  1],\n",
       "       [ 8,  7, 10],\n",
       "       [ 1,  1,  1],\n",
       "       [ 1,  1,  1],\n",
       "       [ 1,  1,  2],\n",
       "       [ 1,  1,  1],\n",
       "       [ 1,  1,  2],\n",
       "       [ 5,  5, 10],\n",
       "       [ 4,  3, 10],\n",
       "       [ 1,  1,  1],\n",
       "       [ 1,  1,  1],\n",
       "       [ 4,  4, 10],\n",
       "       [ 1,  1,  1],\n",
       "       [ 6,  5, 10],\n",
       "       [ 1,  1,  1],\n",
       "       [ 1,  1,  1],\n",
       "       [ 8,  8, 10],\n",
       "       [ 1,  2,  1],\n",
       "       [ 1,  1,  1],\n",
       "       [ 3,  4,  3],\n",
       "       [ 1,  1,  1],\n",
       "       [ 6,  5,  1],\n",
       "       [10,  8,  5],\n",
       "       [ 1,  3,  5],\n",
       "       [ 1,  1,  1],\n",
       "       [ 1,  1,  1],\n",
       "       [ 8, 10, 10],\n",
       "       [ 1,  1,  1],\n",
       "       [ 1,  1,  1],\n",
       "       [ 5,  8, 10],\n",
       "       [ 8,  4,  8],\n",
       "       [ 1,  1,  1],\n",
       "       [ 1,  1,  1],\n",
       "       [ 1,  3,  1],\n",
       "       [ 1,  1,  1],\n",
       "       [ 1,  1,  1],\n",
       "       [ 1,  1,  1],\n",
       "       [ 1,  1,  3],\n",
       "       [ 7,  7, 10],\n",
       "       [ 1,  1,  1],\n",
       "       [ 3,  8,  9],\n",
       "       [ 8,  7,  3],\n",
       "       [ 1,  1,  1],\n",
       "       [ 1,  1,  1],\n",
       "       [ 1,  1,  1],\n",
       "       [ 8,  6, 10],\n",
       "       [ 1,  1,  1],\n",
       "       [ 1,  1,  1],\n",
       "       [ 1,  1,  1],\n",
       "       [ 1,  1,  5],\n",
       "       [ 5, 10, 10],\n",
       "       [ 3,  3,  1],\n",
       "       [ 1,  1,  1],\n",
       "       [ 1,  3,  1],\n",
       "       [10, 10, 10],\n",
       "       [ 4,  4, 10],\n",
       "       [ 1,  1,  1],\n",
       "       [ 3,  2,  1],\n",
       "       [ 1,  1,  1],\n",
       "       [ 2,  2,  1],\n",
       "       [ 1,  1,  1],\n",
       "       [ 1,  1,  1],\n",
       "       [ 1,  1,  1],\n",
       "       [ 1,  1,  1],\n",
       "       [ 1,  1,  1],\n",
       "       [ 1,  1,  1],\n",
       "       [ 1,  1,  1],\n",
       "       [ 7,  9, 10],\n",
       "       [ 1,  1,  1]], dtype=int64)"
      ]
     },
     "execution_count": 14,
     "metadata": {},
     "output_type": "execute_result"
    }
   ],
   "source": [
    "X_selected"
   ]
  },
  {
   "cell_type": "code",
   "execution_count": 15,
   "id": "58906f28",
   "metadata": {},
   "outputs": [
    {
     "data": {
      "text/plain": [
       "array([False,  True,  True, False, False,  True, False, False, False])"
      ]
     },
     "execution_count": 15,
     "metadata": {},
     "output_type": "execute_result"
    }
   ],
   "source": [
    "cols_id = fs.get_support()\n",
    "cols_id"
   ]
  },
  {
   "cell_type": "code",
   "execution_count": 16,
   "id": "b44751b2",
   "metadata": {},
   "outputs": [],
   "source": [
    "X = features.iloc[:,cols_id]"
   ]
  },
  {
   "cell_type": "code",
   "execution_count": 17,
   "id": "30faf021",
   "metadata": {},
   "outputs": [
    {
     "data": {
      "text/html": [
       "<div>\n",
       "<style scoped>\n",
       "    .dataframe tbody tr th:only-of-type {\n",
       "        vertical-align: middle;\n",
       "    }\n",
       "\n",
       "    .dataframe tbody tr th {\n",
       "        vertical-align: top;\n",
       "    }\n",
       "\n",
       "    .dataframe thead th {\n",
       "        text-align: right;\n",
       "    }\n",
       "</style>\n",
       "<table border=\"1\" class=\"dataframe\">\n",
       "  <thead>\n",
       "    <tr style=\"text-align: right;\">\n",
       "      <th></th>\n",
       "      <th>ucellsize</th>\n",
       "      <th>ucellshape</th>\n",
       "      <th>bnuclei</th>\n",
       "    </tr>\n",
       "  </thead>\n",
       "  <tbody>\n",
       "    <tr>\n",
       "      <th>0</th>\n",
       "      <td>1</td>\n",
       "      <td>1</td>\n",
       "      <td>3</td>\n",
       "    </tr>\n",
       "    <tr>\n",
       "      <th>1</th>\n",
       "      <td>5</td>\n",
       "      <td>8</td>\n",
       "      <td>8</td>\n",
       "    </tr>\n",
       "    <tr>\n",
       "      <th>2</th>\n",
       "      <td>2</td>\n",
       "      <td>2</td>\n",
       "      <td>1</td>\n",
       "    </tr>\n",
       "    <tr>\n",
       "      <th>3</th>\n",
       "      <td>1</td>\n",
       "      <td>1</td>\n",
       "      <td>1</td>\n",
       "    </tr>\n",
       "    <tr>\n",
       "      <th>4</th>\n",
       "      <td>4</td>\n",
       "      <td>6</td>\n",
       "      <td>10</td>\n",
       "    </tr>\n",
       "    <tr>\n",
       "      <th>...</th>\n",
       "      <td>...</td>\n",
       "      <td>...</td>\n",
       "      <td>...</td>\n",
       "    </tr>\n",
       "    <tr>\n",
       "      <th>295</th>\n",
       "      <td>1</td>\n",
       "      <td>1</td>\n",
       "      <td>1</td>\n",
       "    </tr>\n",
       "    <tr>\n",
       "      <th>296</th>\n",
       "      <td>1</td>\n",
       "      <td>1</td>\n",
       "      <td>1</td>\n",
       "    </tr>\n",
       "    <tr>\n",
       "      <th>297</th>\n",
       "      <td>1</td>\n",
       "      <td>1</td>\n",
       "      <td>1</td>\n",
       "    </tr>\n",
       "    <tr>\n",
       "      <th>298</th>\n",
       "      <td>7</td>\n",
       "      <td>9</td>\n",
       "      <td>10</td>\n",
       "    </tr>\n",
       "    <tr>\n",
       "      <th>299</th>\n",
       "      <td>1</td>\n",
       "      <td>1</td>\n",
       "      <td>1</td>\n",
       "    </tr>\n",
       "  </tbody>\n",
       "</table>\n",
       "<p>300 rows × 3 columns</p>\n",
       "</div>"
      ],
      "text/plain": [
       "     ucellsize  ucellshape  bnuclei\n",
       "0            1           1        3\n",
       "1            5           8        8\n",
       "2            2           2        1\n",
       "3            1           1        1\n",
       "4            4           6       10\n",
       "..         ...         ...      ...\n",
       "295          1           1        1\n",
       "296          1           1        1\n",
       "297          1           1        1\n",
       "298          7           9       10\n",
       "299          1           1        1\n",
       "\n",
       "[300 rows x 3 columns]"
      ]
     },
     "execution_count": 17,
     "metadata": {},
     "output_type": "execute_result"
    }
   ],
   "source": [
    "X"
   ]
  },
  {
   "cell_type": "code",
   "execution_count": 18,
   "id": "8d3704c0",
   "metadata": {},
   "outputs": [],
   "source": [
    "y = label"
   ]
  },
  {
   "cell_type": "code",
   "execution_count": 19,
   "id": "c3e468aa",
   "metadata": {},
   "outputs": [
    {
     "data": {
      "text/plain": [
       "0         begnin\n",
       "1      malignant\n",
       "2         begnin\n",
       "3         begnin\n",
       "4      malignant\n",
       "         ...    \n",
       "295       begnin\n",
       "296       begnin\n",
       "297       begnin\n",
       "298    malignant\n",
       "299       begnin\n",
       "Name: classe, Length: 300, dtype: object"
      ]
     },
     "execution_count": 19,
     "metadata": {},
     "output_type": "execute_result"
    }
   ],
   "source": [
    "y"
   ]
  },
  {
   "cell_type": "markdown",
   "id": "a923a462",
   "metadata": {},
   "source": [
    "### Encoding"
   ]
  },
  {
   "cell_type": "code",
   "execution_count": 20,
   "id": "4802d0eb",
   "metadata": {},
   "outputs": [
    {
     "data": {
      "text/html": [
       "<div>\n",
       "<style scoped>\n",
       "    .dataframe tbody tr th:only-of-type {\n",
       "        vertical-align: middle;\n",
       "    }\n",
       "\n",
       "    .dataframe tbody tr th {\n",
       "        vertical-align: top;\n",
       "    }\n",
       "\n",
       "    .dataframe thead th {\n",
       "        text-align: right;\n",
       "    }\n",
       "</style>\n",
       "<table border=\"1\" class=\"dataframe\">\n",
       "  <thead>\n",
       "    <tr style=\"text-align: right;\">\n",
       "      <th></th>\n",
       "      <th>clump</th>\n",
       "      <th>ucellsize</th>\n",
       "      <th>ucellshape</th>\n",
       "      <th>mgadhesion</th>\n",
       "      <th>sepics</th>\n",
       "      <th>bnuclei</th>\n",
       "      <th>bchromatin</th>\n",
       "      <th>normnucl</th>\n",
       "      <th>mitoses</th>\n",
       "      <th>classe</th>\n",
       "    </tr>\n",
       "  </thead>\n",
       "  <tbody>\n",
       "    <tr>\n",
       "      <th>0</th>\n",
       "      <td>4</td>\n",
       "      <td>1</td>\n",
       "      <td>1</td>\n",
       "      <td>1</td>\n",
       "      <td>2</td>\n",
       "      <td>3</td>\n",
       "      <td>1</td>\n",
       "      <td>1</td>\n",
       "      <td>1</td>\n",
       "      <td>begnin</td>\n",
       "    </tr>\n",
       "    <tr>\n",
       "      <th>1</th>\n",
       "      <td>1</td>\n",
       "      <td>5</td>\n",
       "      <td>8</td>\n",
       "      <td>6</td>\n",
       "      <td>5</td>\n",
       "      <td>8</td>\n",
       "      <td>7</td>\n",
       "      <td>10</td>\n",
       "      <td>1</td>\n",
       "      <td>malignant</td>\n",
       "    </tr>\n",
       "    <tr>\n",
       "      <th>2</th>\n",
       "      <td>3</td>\n",
       "      <td>2</td>\n",
       "      <td>2</td>\n",
       "      <td>3</td>\n",
       "      <td>2</td>\n",
       "      <td>1</td>\n",
       "      <td>1</td>\n",
       "      <td>1</td>\n",
       "      <td>1</td>\n",
       "      <td>begnin</td>\n",
       "    </tr>\n",
       "    <tr>\n",
       "      <th>3</th>\n",
       "      <td>3</td>\n",
       "      <td>1</td>\n",
       "      <td>1</td>\n",
       "      <td>3</td>\n",
       "      <td>8</td>\n",
       "      <td>1</td>\n",
       "      <td>5</td>\n",
       "      <td>8</td>\n",
       "      <td>1</td>\n",
       "      <td>begnin</td>\n",
       "    </tr>\n",
       "    <tr>\n",
       "      <th>4</th>\n",
       "      <td>10</td>\n",
       "      <td>4</td>\n",
       "      <td>6</td>\n",
       "      <td>1</td>\n",
       "      <td>2</td>\n",
       "      <td>10</td>\n",
       "      <td>5</td>\n",
       "      <td>3</td>\n",
       "      <td>1</td>\n",
       "      <td>malignant</td>\n",
       "    </tr>\n",
       "  </tbody>\n",
       "</table>\n",
       "</div>"
      ],
      "text/plain": [
       "   clump  ucellsize  ucellshape  mgadhesion  sepics  bnuclei  bchromatin  \\\n",
       "0      4          1           1           1       2        3           1   \n",
       "1      1          5           8           6       5        8           7   \n",
       "2      3          2           2           3       2        1           1   \n",
       "3      3          1           1           3       8        1           5   \n",
       "4     10          4           6           1       2       10           5   \n",
       "\n",
       "   normnucl  mitoses     classe  \n",
       "0         1        1     begnin  \n",
       "1        10        1  malignant  \n",
       "2         1        1     begnin  \n",
       "3         8        1     begnin  \n",
       "4         3        1  malignant  "
      ]
     },
     "execution_count": 20,
     "metadata": {},
     "output_type": "execute_result"
    }
   ],
   "source": [
    "df.head()"
   ]
  },
  {
   "cell_type": "code",
   "execution_count": 21,
   "id": "1a5cf85f",
   "metadata": {},
   "outputs": [],
   "source": [
    "df['classe'] = df['classe'].replace({'begnin': 0, 'malignant':1})"
   ]
  },
  {
   "cell_type": "code",
   "execution_count": 22,
   "id": "551c085d",
   "metadata": {},
   "outputs": [
    {
     "data": {
      "text/html": [
       "<div>\n",
       "<style scoped>\n",
       "    .dataframe tbody tr th:only-of-type {\n",
       "        vertical-align: middle;\n",
       "    }\n",
       "\n",
       "    .dataframe tbody tr th {\n",
       "        vertical-align: top;\n",
       "    }\n",
       "\n",
       "    .dataframe thead th {\n",
       "        text-align: right;\n",
       "    }\n",
       "</style>\n",
       "<table border=\"1\" class=\"dataframe\">\n",
       "  <thead>\n",
       "    <tr style=\"text-align: right;\">\n",
       "      <th></th>\n",
       "      <th>clump</th>\n",
       "      <th>ucellsize</th>\n",
       "      <th>ucellshape</th>\n",
       "      <th>mgadhesion</th>\n",
       "      <th>sepics</th>\n",
       "      <th>bnuclei</th>\n",
       "      <th>bchromatin</th>\n",
       "      <th>normnucl</th>\n",
       "      <th>mitoses</th>\n",
       "      <th>classe</th>\n",
       "    </tr>\n",
       "  </thead>\n",
       "  <tbody>\n",
       "    <tr>\n",
       "      <th>0</th>\n",
       "      <td>4</td>\n",
       "      <td>1</td>\n",
       "      <td>1</td>\n",
       "      <td>1</td>\n",
       "      <td>2</td>\n",
       "      <td>3</td>\n",
       "      <td>1</td>\n",
       "      <td>1</td>\n",
       "      <td>1</td>\n",
       "      <td>0</td>\n",
       "    </tr>\n",
       "    <tr>\n",
       "      <th>1</th>\n",
       "      <td>1</td>\n",
       "      <td>5</td>\n",
       "      <td>8</td>\n",
       "      <td>6</td>\n",
       "      <td>5</td>\n",
       "      <td>8</td>\n",
       "      <td>7</td>\n",
       "      <td>10</td>\n",
       "      <td>1</td>\n",
       "      <td>1</td>\n",
       "    </tr>\n",
       "    <tr>\n",
       "      <th>2</th>\n",
       "      <td>3</td>\n",
       "      <td>2</td>\n",
       "      <td>2</td>\n",
       "      <td>3</td>\n",
       "      <td>2</td>\n",
       "      <td>1</td>\n",
       "      <td>1</td>\n",
       "      <td>1</td>\n",
       "      <td>1</td>\n",
       "      <td>0</td>\n",
       "    </tr>\n",
       "    <tr>\n",
       "      <th>3</th>\n",
       "      <td>3</td>\n",
       "      <td>1</td>\n",
       "      <td>1</td>\n",
       "      <td>3</td>\n",
       "      <td>8</td>\n",
       "      <td>1</td>\n",
       "      <td>5</td>\n",
       "      <td>8</td>\n",
       "      <td>1</td>\n",
       "      <td>0</td>\n",
       "    </tr>\n",
       "    <tr>\n",
       "      <th>4</th>\n",
       "      <td>10</td>\n",
       "      <td>4</td>\n",
       "      <td>6</td>\n",
       "      <td>1</td>\n",
       "      <td>2</td>\n",
       "      <td>10</td>\n",
       "      <td>5</td>\n",
       "      <td>3</td>\n",
       "      <td>1</td>\n",
       "      <td>1</td>\n",
       "    </tr>\n",
       "  </tbody>\n",
       "</table>\n",
       "</div>"
      ],
      "text/plain": [
       "   clump  ucellsize  ucellshape  mgadhesion  sepics  bnuclei  bchromatin  \\\n",
       "0      4          1           1           1       2        3           1   \n",
       "1      1          5           8           6       5        8           7   \n",
       "2      3          2           2           3       2        1           1   \n",
       "3      3          1           1           3       8        1           5   \n",
       "4     10          4           6           1       2       10           5   \n",
       "\n",
       "   normnucl  mitoses  classe  \n",
       "0         1        1       0  \n",
       "1        10        1       1  \n",
       "2         1        1       0  \n",
       "3         8        1       0  \n",
       "4         3        1       1  "
      ]
     },
     "execution_count": 22,
     "metadata": {},
     "output_type": "execute_result"
    }
   ],
   "source": [
    "df.head()"
   ]
  },
  {
   "cell_type": "code",
   "execution_count": 23,
   "id": "9e8f4737",
   "metadata": {},
   "outputs": [],
   "source": [
    "y = df['classe'].values"
   ]
  },
  {
   "cell_type": "code",
   "execution_count": 24,
   "id": "dfc09877",
   "metadata": {},
   "outputs": [
    {
     "data": {
      "text/plain": [
       "array([0, 1, 0, 0, 1, 1, 0, 1, 1, 1, 0, 0, 1, 0, 0, 0, 1, 0, 0, 0, 0, 1,\n",
       "       0, 0, 0, 0, 0, 0, 1, 0, 1, 0, 0, 0, 0, 1, 1, 1, 0, 0, 1, 0, 0, 1,\n",
       "       0, 0, 1, 0, 0, 0, 0, 0, 0, 0, 1, 1, 1, 0, 0, 0, 1, 0, 0, 0, 0, 1,\n",
       "       1, 0, 0, 0, 0, 1, 0, 1, 1, 1, 1, 0, 0, 0, 1, 1, 0, 1, 0, 0, 1, 0,\n",
       "       0, 1, 0, 0, 0, 0, 1, 0, 1, 1, 0, 1, 0, 0, 0, 0, 1, 0, 1, 1, 0, 0,\n",
       "       1, 1, 0, 0, 1, 0, 0, 0, 0, 0, 0, 0, 0, 0, 1, 0, 1, 1, 1, 0, 1, 1,\n",
       "       0, 0, 0, 1, 0, 0, 0, 0, 1, 0, 1, 1, 0, 1, 1, 1, 0, 0, 1, 0, 0, 0,\n",
       "       1, 0, 1, 0, 0, 0, 0, 0, 1, 1, 1, 1, 1, 1, 0, 0, 0, 0, 0, 0, 0, 0,\n",
       "       0, 0, 0, 1, 1, 0, 0, 0, 1, 1, 0, 0, 0, 1, 0, 0, 0, 0, 0, 0, 0, 0,\n",
       "       0, 1, 0, 0, 1, 0, 0, 1, 1, 1, 0, 0, 0, 0, 1, 0, 1, 0, 0, 1, 1, 0,\n",
       "       0, 1, 0, 0, 1, 0, 0, 0, 0, 0, 0, 0, 1, 0, 0, 0, 0, 0, 1, 1, 0, 0,\n",
       "       0, 0, 1, 0, 0, 1, 0, 0, 1, 0, 1, 1, 1, 0, 0, 1, 0, 0, 1, 1, 0, 0,\n",
       "       0, 0, 0, 0, 0, 1, 0, 1, 1, 0, 0, 0, 1, 0, 0, 0, 0, 1, 0, 0, 0, 1,\n",
       "       1, 0, 0, 0, 0, 0, 0, 0, 0, 0, 0, 0, 1, 0], dtype=int64)"
      ]
     },
     "execution_count": 24,
     "metadata": {},
     "output_type": "execute_result"
    }
   ],
   "source": [
    "y"
   ]
  },
  {
   "cell_type": "markdown",
   "id": "8eea6786",
   "metadata": {},
   "source": [
    "##### Split the dataset into training and test sets"
   ]
  },
  {
   "cell_type": "code",
   "execution_count": 25,
   "id": "8dd4c287",
   "metadata": {},
   "outputs": [
    {
     "data": {
      "text/plain": [
       "(300, 10)"
      ]
     },
     "execution_count": 25,
     "metadata": {},
     "output_type": "execute_result"
    }
   ],
   "source": [
    "df.shape"
   ]
  },
  {
   "cell_type": "code",
   "execution_count": 27,
   "id": "b9b8b9ce",
   "metadata": {},
   "outputs": [
    {
     "data": {
      "text/plain": [
       "array([[ 1,  1,  3],\n",
       "       [ 5,  8,  8],\n",
       "       [ 2,  2,  1],\n",
       "       [ 1,  1,  1],\n",
       "       [ 4,  6, 10],\n",
       "       [ 5,  7,  7],\n",
       "       [ 3,  3,  2],\n",
       "       [10, 10,  8],\n",
       "       [ 5,  6,  8],\n",
       "       [ 3,  2, 10],\n",
       "       [ 1,  1,  1],\n",
       "       [ 2,  3,  1],\n",
       "       [ 4,  5,  4],\n",
       "       [ 1,  1,  1],\n",
       "       [ 3,  4,  5],\n",
       "       [ 1,  1,  1],\n",
       "       [ 3,  5,  3],\n",
       "       [ 1,  1,  1],\n",
       "       [ 1,  1,  1],\n",
       "       [ 1,  1,  1],\n",
       "       [ 1,  1,  1],\n",
       "       [ 7, 10, 10],\n",
       "       [ 1,  1,  1],\n",
       "       [ 1,  1,  4],\n",
       "       [ 1,  1,  1],\n",
       "       [ 1,  2,  1],\n",
       "       [ 1,  1,  1],\n",
       "       [ 1,  1,  1],\n",
       "       [ 6,  6, 10],\n",
       "       [ 1,  1,  1],\n",
       "       [ 5,  5, 10],\n",
       "       [ 2,  3,  1],\n",
       "       [ 1,  1,  1],\n",
       "       [ 1,  1,  1],\n",
       "       [ 1,  2,  1],\n",
       "       [ 7,  4,  3],\n",
       "       [ 5,  7, 10],\n",
       "       [ 3,  4,  2],\n",
       "       [ 1,  1,  1],\n",
       "       [ 8,  8,  4],\n",
       "       [ 3,  4, 10],\n",
       "       [ 1,  1,  1],\n",
       "       [ 3,  2,  3],\n",
       "       [ 2,  4, 10],\n",
       "       [ 1,  3,  1],\n",
       "       [ 1,  1,  1],\n",
       "       [10,  9,  5],\n",
       "       [ 3,  1,  1],\n",
       "       [ 2,  1,  2],\n",
       "       [ 1,  1,  1],\n",
       "       [ 1,  1,  1],\n",
       "       [ 1,  3,  1],\n",
       "       [ 2,  2,  1],\n",
       "       [ 1,  1,  1],\n",
       "       [ 8,  7,  8],\n",
       "       [ 6,  3, 10],\n",
       "       [ 7,  8, 10],\n",
       "       [ 1,  1,  1],\n",
       "       [ 1,  1,  1],\n",
       "       [ 1,  1,  1],\n",
       "       [10, 10,  1],\n",
       "       [ 1,  1,  1],\n",
       "       [ 1,  1,  1],\n",
       "       [ 1,  1,  1],\n",
       "       [ 3,  4,  1],\n",
       "       [ 3,  3,  3],\n",
       "       [ 8,  9, 10],\n",
       "       [ 1,  1,  1],\n",
       "       [ 2,  2,  1],\n",
       "       [ 1,  1,  1],\n",
       "       [ 1,  1,  1],\n",
       "       [ 8,  6,  4],\n",
       "       [ 1,  1,  1],\n",
       "       [10, 10, 10],\n",
       "       [10, 10, 10],\n",
       "       [10, 10, 10],\n",
       "       [10,  5, 10],\n",
       "       [ 1,  1,  1],\n",
       "       [ 1,  1,  1],\n",
       "       [ 1,  1,  4],\n",
       "       [10, 10,  4],\n",
       "       [10, 10, 10],\n",
       "       [ 1,  1,  1],\n",
       "       [ 6,  9,  6],\n",
       "       [ 2,  1,  1],\n",
       "       [ 1,  1,  1],\n",
       "       [10,  5,  4],\n",
       "       [ 1,  1,  1],\n",
       "       [ 1,  1,  1],\n",
       "       [10, 10,  9],\n",
       "       [ 1,  1,  1],\n",
       "       [ 1,  1,  1],\n",
       "       [ 2,  2,  1],\n",
       "       [ 1,  1,  1],\n",
       "       [10,  8,  5],\n",
       "       [ 1,  1,  1],\n",
       "       [ 8,  7,  8],\n",
       "       [ 7,  4,  1],\n",
       "       [ 1,  1,  1],\n",
       "       [ 3,  4, 10],\n",
       "       [ 1,  1,  1],\n",
       "       [ 1,  3,  4],\n",
       "       [ 1,  1,  1],\n",
       "       [ 2,  2,  1],\n",
       "       [ 6,  4,  9],\n",
       "       [ 2,  4,  1],\n",
       "       [ 6,  4, 10],\n",
       "       [10,  3,  4],\n",
       "       [ 2,  1,  1],\n",
       "       [ 1,  1,  1],\n",
       "       [ 1,  1, 10],\n",
       "       [ 3,  6,  5],\n",
       "       [ 1,  4,  1],\n",
       "       [ 1,  1,  1],\n",
       "       [ 7,  7, 10],\n",
       "       [ 1,  1,  1],\n",
       "       [ 1,  1,  1],\n",
       "       [ 1,  1,  1],\n",
       "       [ 2,  2,  1],\n",
       "       [ 1,  1,  1],\n",
       "       [ 9,  7,  8],\n",
       "       [ 1,  1,  1],\n",
       "       [ 2,  1,  1],\n",
       "       [ 1,  1,  3],\n",
       "       [10, 10, 10],\n",
       "       [ 1,  1,  1],\n",
       "       [10, 10,  5],\n",
       "       [ 6,  6, 10],\n",
       "       [ 5,  8,  3],\n",
       "       [ 1,  1,  1],\n",
       "       [ 6,  6, 10],\n",
       "       [ 7,  8,  5],\n",
       "       [ 1,  1,  4],\n",
       "       [ 1,  1,  1],\n",
       "       [ 1,  2,  1],\n",
       "       [ 8,  8,  5],\n",
       "       [ 1,  1,  2],\n",
       "       [ 1,  1,  1],\n",
       "       [ 1,  1,  4],\n",
       "       [ 1,  1,  1],\n",
       "       [ 4,  5, 10],\n",
       "       [ 1,  3,  1],\n",
       "       [ 5,  5, 10],\n",
       "       [ 3,  3, 10],\n",
       "       [ 1,  1,  1],\n",
       "       [ 5,  7,  9],\n",
       "       [ 3,  5, 10],\n",
       "       [ 2,  3,  7],\n",
       "       [ 1,  1,  1],\n",
       "       [ 1,  1,  1],\n",
       "       [ 4,  6,  7],\n",
       "       [ 1,  1,  1],\n",
       "       [ 2,  3,  1],\n",
       "       [ 4,  5,  3],\n",
       "       [ 3,  5, 10],\n",
       "       [ 1,  1,  5],\n",
       "       [10, 10,  1],\n",
       "       [ 1,  1,  1],\n",
       "       [ 1,  2,  1],\n",
       "       [ 1,  2,  5],\n",
       "       [ 1,  1,  1],\n",
       "       [ 2,  1,  2],\n",
       "       [10, 10, 10],\n",
       "       [ 8,  9, 10],\n",
       "       [10, 10,  1],\n",
       "       [10, 10, 10],\n",
       "       [10, 10,  8],\n",
       "       [10, 10, 10],\n",
       "       [ 1,  3,  4],\n",
       "       [ 2,  1,  1],\n",
       "       [ 1,  1,  1],\n",
       "       [ 1,  1,  1],\n",
       "       [ 1,  2,  1],\n",
       "       [ 1,  1,  1],\n",
       "       [ 1,  1,  1],\n",
       "       [ 1,  1,  1],\n",
       "       [ 1,  1,  1],\n",
       "       [ 1,  1,  1],\n",
       "       [ 1,  1,  1],\n",
       "       [ 2,  3,  8],\n",
       "       [10,  8,  1],\n",
       "       [ 1,  1,  1],\n",
       "       [ 1,  3,  1],\n",
       "       [ 1,  1,  1],\n",
       "       [10, 10,  1],\n",
       "       [ 4,  2,  2],\n",
       "       [ 1,  1,  1],\n",
       "       [ 1,  1,  1],\n",
       "       [ 1,  1,  1],\n",
       "       [ 5,  6, 10],\n",
       "       [ 1,  1,  1],\n",
       "       [ 1,  1,  3],\n",
       "       [ 1,  1,  1],\n",
       "       [ 1,  1,  1],\n",
       "       [ 1,  1,  1],\n",
       "       [ 1,  1,  1],\n",
       "       [ 3,  1,  1],\n",
       "       [ 1,  1,  1],\n",
       "       [ 4,  5,  1],\n",
       "       [10, 10,  5],\n",
       "       [ 3,  1,  2],\n",
       "       [ 3,  2,  1],\n",
       "       [ 3,  2, 10],\n",
       "       [ 1,  1,  1],\n",
       "       [ 1,  1,  1],\n",
       "       [ 4,  7,  8],\n",
       "       [ 6,  7, 10],\n",
       "       [10, 10,  5],\n",
       "       [ 1,  1,  1],\n",
       "       [ 1,  3,  1],\n",
       "       [ 1,  1,  1],\n",
       "       [ 1,  1,  1],\n",
       "       [ 3,  4, 10],\n",
       "       [ 1,  1,  2],\n",
       "       [ 5, 10,  8],\n",
       "       [ 1,  1,  1],\n",
       "       [ 2,  4,  2],\n",
       "       [ 6,  4,  4],\n",
       "       [ 5,  6, 10],\n",
       "       [ 1,  1,  1],\n",
       "       [ 1,  2,  2],\n",
       "       [ 7, 10, 10],\n",
       "       [ 1,  1,  1],\n",
       "       [ 1,  1,  1],\n",
       "       [ 5,  3, 10],\n",
       "       [ 1,  3,  2],\n",
       "       [ 1,  1,  1],\n",
       "       [ 1,  3,  1],\n",
       "       [ 1,  1,  1],\n",
       "       [ 4,  6,  1],\n",
       "       [ 1,  1,  1],\n",
       "       [ 1,  1,  1],\n",
       "       [ 8,  7, 10],\n",
       "       [ 1,  1,  1],\n",
       "       [ 1,  1,  1],\n",
       "       [ 1,  1,  2],\n",
       "       [ 1,  1,  1],\n",
       "       [ 1,  1,  2],\n",
       "       [ 5,  5, 10],\n",
       "       [ 4,  3, 10],\n",
       "       [ 1,  1,  1],\n",
       "       [ 1,  1,  1],\n",
       "       [ 4,  4, 10],\n",
       "       [ 1,  1,  1],\n",
       "       [ 6,  5, 10],\n",
       "       [ 1,  1,  1],\n",
       "       [ 1,  1,  1],\n",
       "       [ 8,  8, 10],\n",
       "       [ 1,  2,  1],\n",
       "       [ 1,  1,  1],\n",
       "       [ 3,  4,  3],\n",
       "       [ 1,  1,  1],\n",
       "       [ 6,  5,  1],\n",
       "       [10,  8,  5],\n",
       "       [ 1,  3,  5],\n",
       "       [ 1,  1,  1],\n",
       "       [ 1,  1,  1],\n",
       "       [ 8, 10, 10],\n",
       "       [ 1,  1,  1],\n",
       "       [ 1,  1,  1],\n",
       "       [ 5,  8, 10],\n",
       "       [ 8,  4,  8],\n",
       "       [ 1,  1,  1],\n",
       "       [ 1,  1,  1],\n",
       "       [ 1,  3,  1],\n",
       "       [ 1,  1,  1],\n",
       "       [ 1,  1,  1],\n",
       "       [ 1,  1,  1],\n",
       "       [ 1,  1,  3],\n",
       "       [ 7,  7, 10],\n",
       "       [ 1,  1,  1],\n",
       "       [ 3,  8,  9],\n",
       "       [ 8,  7,  3],\n",
       "       [ 1,  1,  1],\n",
       "       [ 1,  1,  1],\n",
       "       [ 1,  1,  1],\n",
       "       [ 8,  6, 10],\n",
       "       [ 1,  1,  1],\n",
       "       [ 1,  1,  1],\n",
       "       [ 1,  1,  1],\n",
       "       [ 1,  1,  5],\n",
       "       [ 5, 10, 10],\n",
       "       [ 3,  3,  1],\n",
       "       [ 1,  1,  1],\n",
       "       [ 1,  3,  1],\n",
       "       [10, 10, 10],\n",
       "       [ 4,  4, 10],\n",
       "       [ 1,  1,  1],\n",
       "       [ 3,  2,  1],\n",
       "       [ 1,  1,  1],\n",
       "       [ 2,  2,  1],\n",
       "       [ 1,  1,  1],\n",
       "       [ 1,  1,  1],\n",
       "       [ 1,  1,  1],\n",
       "       [ 1,  1,  1],\n",
       "       [ 1,  1,  1],\n",
       "       [ 1,  1,  1],\n",
       "       [ 1,  1,  1],\n",
       "       [ 7,  9, 10],\n",
       "       [ 1,  1,  1]], dtype=int64)"
      ]
     },
     "execution_count": 27,
     "metadata": {},
     "output_type": "execute_result"
    }
   ],
   "source": [
    "X.values"
   ]
  },
  {
   "cell_type": "code",
   "execution_count": 28,
   "id": "73496329",
   "metadata": {},
   "outputs": [],
   "source": [
    "from sklearn.model_selection import train_test_split\n",
    "\n",
    "X_train, X_test, y_train, y_test = train_test_split(X.values, y,test_size=0.3,random_state=0)"
   ]
  },
  {
   "cell_type": "markdown",
   "id": "dc375c94",
   "metadata": {},
   "source": [
    "Algorithms for classification : Binary or multimonial\n",
    "\n",
    "- Logistic regression\n",
    "\n",
    "- Decision tree\n",
    "\n",
    "- Random forest\n",
    "\n",
    "- KNN"
   ]
  },
  {
   "cell_type": "markdown",
   "id": "03abae32",
   "metadata": {},
   "source": [
    "#### Training the model"
   ]
  },
  {
   "cell_type": "code",
   "execution_count": 29,
   "id": "2f76f129",
   "metadata": {},
   "outputs": [],
   "source": [
    "from sklearn.linear_model import LogisticRegression\n",
    "\n",
    "model = LogisticRegression().fit(X_train, y_train) # train the model"
   ]
  },
  {
   "cell_type": "code",
   "execution_count": 30,
   "id": "7daa934d",
   "metadata": {},
   "outputs": [
    {
     "data": {
      "text/html": [
       "<style>#sk-container-id-1 {color: black;}#sk-container-id-1 pre{padding: 0;}#sk-container-id-1 div.sk-toggleable {background-color: white;}#sk-container-id-1 label.sk-toggleable__label {cursor: pointer;display: block;width: 100%;margin-bottom: 0;padding: 0.3em;box-sizing: border-box;text-align: center;}#sk-container-id-1 label.sk-toggleable__label-arrow:before {content: \"▸\";float: left;margin-right: 0.25em;color: #696969;}#sk-container-id-1 label.sk-toggleable__label-arrow:hover:before {color: black;}#sk-container-id-1 div.sk-estimator:hover label.sk-toggleable__label-arrow:before {color: black;}#sk-container-id-1 div.sk-toggleable__content {max-height: 0;max-width: 0;overflow: hidden;text-align: left;background-color: #f0f8ff;}#sk-container-id-1 div.sk-toggleable__content pre {margin: 0.2em;color: black;border-radius: 0.25em;background-color: #f0f8ff;}#sk-container-id-1 input.sk-toggleable__control:checked~div.sk-toggleable__content {max-height: 200px;max-width: 100%;overflow: auto;}#sk-container-id-1 input.sk-toggleable__control:checked~label.sk-toggleable__label-arrow:before {content: \"▾\";}#sk-container-id-1 div.sk-estimator input.sk-toggleable__control:checked~label.sk-toggleable__label {background-color: #d4ebff;}#sk-container-id-1 div.sk-label input.sk-toggleable__control:checked~label.sk-toggleable__label {background-color: #d4ebff;}#sk-container-id-1 input.sk-hidden--visually {border: 0;clip: rect(1px 1px 1px 1px);clip: rect(1px, 1px, 1px, 1px);height: 1px;margin: -1px;overflow: hidden;padding: 0;position: absolute;width: 1px;}#sk-container-id-1 div.sk-estimator {font-family: monospace;background-color: #f0f8ff;border: 1px dotted black;border-radius: 0.25em;box-sizing: border-box;margin-bottom: 0.5em;}#sk-container-id-1 div.sk-estimator:hover {background-color: #d4ebff;}#sk-container-id-1 div.sk-parallel-item::after {content: \"\";width: 100%;border-bottom: 1px solid gray;flex-grow: 1;}#sk-container-id-1 div.sk-label:hover label.sk-toggleable__label {background-color: #d4ebff;}#sk-container-id-1 div.sk-serial::before {content: \"\";position: absolute;border-left: 1px solid gray;box-sizing: border-box;top: 0;bottom: 0;left: 50%;z-index: 0;}#sk-container-id-1 div.sk-serial {display: flex;flex-direction: column;align-items: center;background-color: white;padding-right: 0.2em;padding-left: 0.2em;position: relative;}#sk-container-id-1 div.sk-item {position: relative;z-index: 1;}#sk-container-id-1 div.sk-parallel {display: flex;align-items: stretch;justify-content: center;background-color: white;position: relative;}#sk-container-id-1 div.sk-item::before, #sk-container-id-1 div.sk-parallel-item::before {content: \"\";position: absolute;border-left: 1px solid gray;box-sizing: border-box;top: 0;bottom: 0;left: 50%;z-index: -1;}#sk-container-id-1 div.sk-parallel-item {display: flex;flex-direction: column;z-index: 1;position: relative;background-color: white;}#sk-container-id-1 div.sk-parallel-item:first-child::after {align-self: flex-end;width: 50%;}#sk-container-id-1 div.sk-parallel-item:last-child::after {align-self: flex-start;width: 50%;}#sk-container-id-1 div.sk-parallel-item:only-child::after {width: 0;}#sk-container-id-1 div.sk-dashed-wrapped {border: 1px dashed gray;margin: 0 0.4em 0.5em 0.4em;box-sizing: border-box;padding-bottom: 0.4em;background-color: white;}#sk-container-id-1 div.sk-label label {font-family: monospace;font-weight: bold;display: inline-block;line-height: 1.2em;}#sk-container-id-1 div.sk-label-container {text-align: center;}#sk-container-id-1 div.sk-container {/* jupyter's `normalize.less` sets `[hidden] { display: none; }` but bootstrap.min.css set `[hidden] { display: none !important; }` so we also need the `!important` here to be able to override the default hidden behavior on the sphinx rendered scikit-learn.org. See: https://github.com/scikit-learn/scikit-learn/issues/21755 */display: inline-block !important;position: relative;}#sk-container-id-1 div.sk-text-repr-fallback {display: none;}</style><div id=\"sk-container-id-1\" class=\"sk-top-container\"><div class=\"sk-text-repr-fallback\"><pre>LogisticRegression()</pre><b>In a Jupyter environment, please rerun this cell to show the HTML representation or trust the notebook. <br />On GitHub, the HTML representation is unable to render, please try loading this page with nbviewer.org.</b></div><div class=\"sk-container\" hidden><div class=\"sk-item\"><div class=\"sk-estimator sk-toggleable\"><input class=\"sk-toggleable__control sk-hidden--visually\" id=\"sk-estimator-id-1\" type=\"checkbox\" checked><label for=\"sk-estimator-id-1\" class=\"sk-toggleable__label sk-toggleable__label-arrow\">LogisticRegression</label><div class=\"sk-toggleable__content\"><pre>LogisticRegression()</pre></div></div></div></div></div>"
      ],
      "text/plain": [
       "LogisticRegression()"
      ]
     },
     "execution_count": 30,
     "metadata": {},
     "output_type": "execute_result"
    }
   ],
   "source": [
    "model"
   ]
  },
  {
   "cell_type": "markdown",
   "id": "37d9bec0",
   "metadata": {},
   "source": [
    "#### Model evaluation"
   ]
  },
  {
   "cell_type": "code",
   "execution_count": 35,
   "id": "8bd68db5",
   "metadata": {},
   "outputs": [
    {
     "data": {
      "text/html": [
       "<div>\n",
       "<style scoped>\n",
       "    .dataframe tbody tr th:only-of-type {\n",
       "        vertical-align: middle;\n",
       "    }\n",
       "\n",
       "    .dataframe tbody tr th {\n",
       "        vertical-align: top;\n",
       "    }\n",
       "\n",
       "    .dataframe thead th {\n",
       "        text-align: right;\n",
       "    }\n",
       "</style>\n",
       "<table border=\"1\" class=\"dataframe\">\n",
       "  <thead>\n",
       "    <tr style=\"text-align: right;\">\n",
       "      <th></th>\n",
       "      <th>ucellsize</th>\n",
       "      <th>ucellshape</th>\n",
       "      <th>bnuclei</th>\n",
       "      <th>classe</th>\n",
       "    </tr>\n",
       "  </thead>\n",
       "  <tbody>\n",
       "    <tr>\n",
       "      <th>0</th>\n",
       "      <td>1</td>\n",
       "      <td>1</td>\n",
       "      <td>3</td>\n",
       "      <td>0</td>\n",
       "    </tr>\n",
       "    <tr>\n",
       "      <th>1</th>\n",
       "      <td>5</td>\n",
       "      <td>8</td>\n",
       "      <td>8</td>\n",
       "      <td>1</td>\n",
       "    </tr>\n",
       "    <tr>\n",
       "      <th>2</th>\n",
       "      <td>2</td>\n",
       "      <td>2</td>\n",
       "      <td>1</td>\n",
       "      <td>0</td>\n",
       "    </tr>\n",
       "    <tr>\n",
       "      <th>3</th>\n",
       "      <td>1</td>\n",
       "      <td>1</td>\n",
       "      <td>1</td>\n",
       "      <td>0</td>\n",
       "    </tr>\n",
       "    <tr>\n",
       "      <th>4</th>\n",
       "      <td>4</td>\n",
       "      <td>6</td>\n",
       "      <td>10</td>\n",
       "      <td>1</td>\n",
       "    </tr>\n",
       "    <tr>\n",
       "      <th>...</th>\n",
       "      <td>...</td>\n",
       "      <td>...</td>\n",
       "      <td>...</td>\n",
       "      <td>...</td>\n",
       "    </tr>\n",
       "    <tr>\n",
       "      <th>295</th>\n",
       "      <td>1</td>\n",
       "      <td>1</td>\n",
       "      <td>1</td>\n",
       "      <td>0</td>\n",
       "    </tr>\n",
       "    <tr>\n",
       "      <th>296</th>\n",
       "      <td>1</td>\n",
       "      <td>1</td>\n",
       "      <td>1</td>\n",
       "      <td>0</td>\n",
       "    </tr>\n",
       "    <tr>\n",
       "      <th>297</th>\n",
       "      <td>1</td>\n",
       "      <td>1</td>\n",
       "      <td>1</td>\n",
       "      <td>0</td>\n",
       "    </tr>\n",
       "    <tr>\n",
       "      <th>298</th>\n",
       "      <td>7</td>\n",
       "      <td>9</td>\n",
       "      <td>10</td>\n",
       "      <td>1</td>\n",
       "    </tr>\n",
       "    <tr>\n",
       "      <th>299</th>\n",
       "      <td>1</td>\n",
       "      <td>1</td>\n",
       "      <td>1</td>\n",
       "      <td>0</td>\n",
       "    </tr>\n",
       "  </tbody>\n",
       "</table>\n",
       "<p>300 rows × 4 columns</p>\n",
       "</div>"
      ],
      "text/plain": [
       "     ucellsize  ucellshape  bnuclei  classe\n",
       "0            1           1        3       0\n",
       "1            5           8        8       1\n",
       "2            2           2        1       0\n",
       "3            1           1        1       0\n",
       "4            4           6       10       1\n",
       "..         ...         ...      ...     ...\n",
       "295          1           1        1       0\n",
       "296          1           1        1       0\n",
       "297          1           1        1       0\n",
       "298          7           9       10       1\n",
       "299          1           1        1       0\n",
       "\n",
       "[300 rows x 4 columns]"
      ]
     },
     "execution_count": 35,
     "metadata": {},
     "output_type": "execute_result"
    }
   ],
   "source": [
    "df[['ucellsize', 'ucellshape', 'bnuclei', 'classe']]"
   ]
  },
  {
   "cell_type": "code",
   "execution_count": 36,
   "id": "b7229e3d",
   "metadata": {},
   "outputs": [],
   "source": [
    "predictions = model.predict(X_test)"
   ]
  },
  {
   "cell_type": "code",
   "execution_count": 38,
   "id": "332ffd5c",
   "metadata": {},
   "outputs": [],
   "source": [
    "# compare the predictions against the X_test using evaluation metrics\n",
    "\n",
    "from sklearn.metrics import accuracy_score\n",
    "\n",
    "accuracy = accuracy_score(y_test, predictions)"
   ]
  },
  {
   "cell_type": "code",
   "execution_count": 39,
   "id": "90a969fb",
   "metadata": {},
   "outputs": [
    {
     "data": {
      "text/plain": [
       "0.9666666666666667"
      ]
     },
     "execution_count": 39,
     "metadata": {},
     "output_type": "execute_result"
    }
   ],
   "source": [
    "accuracy"
   ]
  },
  {
   "cell_type": "code",
   "execution_count": 40,
   "id": "5e998026",
   "metadata": {},
   "outputs": [
    {
     "name": "stdout",
     "output_type": "stream",
     "text": [
      "              precision    recall  f1-score   support\n",
      "\n",
      "           0       0.95      1.00      0.97        56\n",
      "           1       1.00      0.91      0.95        34\n",
      "\n",
      "    accuracy                           0.97        90\n",
      "   macro avg       0.97      0.96      0.96        90\n",
      "weighted avg       0.97      0.97      0.97        90\n",
      "\n"
     ]
    }
   ],
   "source": [
    "from sklearn.metrics import classification_report\n",
    "\n",
    "print(classification_report(y_test, predictions))"
   ]
  },
  {
   "cell_type": "code",
   "execution_count": 41,
   "id": "1c36c8c1",
   "metadata": {},
   "outputs": [
    {
     "data": {
      "text/html": [
       "<div>\n",
       "<style scoped>\n",
       "    .dataframe tbody tr th:only-of-type {\n",
       "        vertical-align: middle;\n",
       "    }\n",
       "\n",
       "    .dataframe tbody tr th {\n",
       "        vertical-align: top;\n",
       "    }\n",
       "\n",
       "    .dataframe thead th {\n",
       "        text-align: right;\n",
       "    }\n",
       "</style>\n",
       "<table border=\"1\" class=\"dataframe\">\n",
       "  <thead>\n",
       "    <tr style=\"text-align: right;\">\n",
       "      <th>prediction</th>\n",
       "      <th>0</th>\n",
       "      <th>1</th>\n",
       "    </tr>\n",
       "    <tr>\n",
       "      <th>Actual</th>\n",
       "      <th></th>\n",
       "      <th></th>\n",
       "    </tr>\n",
       "  </thead>\n",
       "  <tbody>\n",
       "    <tr>\n",
       "      <th>0</th>\n",
       "      <td>56</td>\n",
       "      <td>0</td>\n",
       "    </tr>\n",
       "    <tr>\n",
       "      <th>1</th>\n",
       "      <td>3</td>\n",
       "      <td>31</td>\n",
       "    </tr>\n",
       "  </tbody>\n",
       "</table>\n",
       "</div>"
      ],
      "text/plain": [
       "prediction   0   1\n",
       "Actual            \n",
       "0           56   0\n",
       "1            3  31"
      ]
     },
     "execution_count": 41,
     "metadata": {},
     "output_type": "execute_result"
    }
   ],
   "source": [
    "confusion_matrix = pd.crosstab(y_test, predictions, rownames=['Actual'], colnames=['prediction'])\n",
    "\n",
    "confusion_matrix"
   ]
  },
  {
   "cell_type": "code",
   "execution_count": 42,
   "id": "097ef8ec",
   "metadata": {},
   "outputs": [
    {
     "data": {
      "text/plain": [
       "<Axes: xlabel='prediction', ylabel='Actual'>"
      ]
     },
     "execution_count": 42,
     "metadata": {},
     "output_type": "execute_result"
    },
    {
     "data": {
      "image/png": "[encoded data removed]",
      "text/plain": [
       "<Figure size 640x480 with 2 Axes>"
      ]
     },
     "metadata": {},
     "output_type": "display_data"
    }
   ],
   "source": [
    "sb.heatmap(confusion_matrix, annot=True)"
   ]
  },
  {
   "cell_type": "markdown",
   "id": "b400ee2e",
   "metadata": {},
   "source": [
    "#### KNN - K Nearest Neighbours"
   ]
  },
  {
   "cell_type": "code",
   "execution_count": 47,
   "id": "feee6368",
   "metadata": {},
   "outputs": [
    {
     "data": {
      "text/html": [
       "<style>#sk-container-id-2 {color: black;}#sk-container-id-2 pre{padding: 0;}#sk-container-id-2 div.sk-toggleable {background-color: white;}#sk-container-id-2 label.sk-toggleable__label {cursor: pointer;display: block;width: 100%;margin-bottom: 0;padding: 0.3em;box-sizing: border-box;text-align: center;}#sk-container-id-2 label.sk-toggleable__label-arrow:before {content: \"▸\";float: left;margin-right: 0.25em;color: #696969;}#sk-container-id-2 label.sk-toggleable__label-arrow:hover:before {color: black;}#sk-container-id-2 div.sk-estimator:hover label.sk-toggleable__label-arrow:before {color: black;}#sk-container-id-2 div.sk-toggleable__content {max-height: 0;max-width: 0;overflow: hidden;text-align: left;background-color: #f0f8ff;}#sk-container-id-2 div.sk-toggleable__content pre {margin: 0.2em;color: black;border-radius: 0.25em;background-color: #f0f8ff;}#sk-container-id-2 input.sk-toggleable__control:checked~div.sk-toggleable__content {max-height: 200px;max-width: 100%;overflow: auto;}#sk-container-id-2 input.sk-toggleable__control:checked~label.sk-toggleable__label-arrow:before {content: \"▾\";}#sk-container-id-2 div.sk-estimator input.sk-toggleable__control:checked~label.sk-toggleable__label {background-color: #d4ebff;}#sk-container-id-2 div.sk-label input.sk-toggleable__control:checked~label.sk-toggleable__label {background-color: #d4ebff;}#sk-container-id-2 input.sk-hidden--visually {border: 0;clip: rect(1px 1px 1px 1px);clip: rect(1px, 1px, 1px, 1px);height: 1px;margin: -1px;overflow: hidden;padding: 0;position: absolute;width: 1px;}#sk-container-id-2 div.sk-estimator {font-family: monospace;background-color: #f0f8ff;border: 1px dotted black;border-radius: 0.25em;box-sizing: border-box;margin-bottom: 0.5em;}#sk-container-id-2 div.sk-estimator:hover {background-color: #d4ebff;}#sk-container-id-2 div.sk-parallel-item::after {content: \"\";width: 100%;border-bottom: 1px solid gray;flex-grow: 1;}#sk-container-id-2 div.sk-label:hover label.sk-toggleable__label {background-color: #d4ebff;}#sk-container-id-2 div.sk-serial::before {content: \"\";position: absolute;border-left: 1px solid gray;box-sizing: border-box;top: 0;bottom: 0;left: 50%;z-index: 0;}#sk-container-id-2 div.sk-serial {display: flex;flex-direction: column;align-items: center;background-color: white;padding-right: 0.2em;padding-left: 0.2em;position: relative;}#sk-container-id-2 div.sk-item {position: relative;z-index: 1;}#sk-container-id-2 div.sk-parallel {display: flex;align-items: stretch;justify-content: center;background-color: white;position: relative;}#sk-container-id-2 div.sk-item::before, #sk-container-id-2 div.sk-parallel-item::before {content: \"\";position: absolute;border-left: 1px solid gray;box-sizing: border-box;top: 0;bottom: 0;left: 50%;z-index: -1;}#sk-container-id-2 div.sk-parallel-item {display: flex;flex-direction: column;z-index: 1;position: relative;background-color: white;}#sk-container-id-2 div.sk-parallel-item:first-child::after {align-self: flex-end;width: 50%;}#sk-container-id-2 div.sk-parallel-item:last-child::after {align-self: flex-start;width: 50%;}#sk-container-id-2 div.sk-parallel-item:only-child::after {width: 0;}#sk-container-id-2 div.sk-dashed-wrapped {border: 1px dashed gray;margin: 0 0.4em 0.5em 0.4em;box-sizing: border-box;padding-bottom: 0.4em;background-color: white;}#sk-container-id-2 div.sk-label label {font-family: monospace;font-weight: bold;display: inline-block;line-height: 1.2em;}#sk-container-id-2 div.sk-label-container {text-align: center;}#sk-container-id-2 div.sk-container {/* jupyter's `normalize.less` sets `[hidden] { display: none; }` but bootstrap.min.css set `[hidden] { display: none !important; }` so we also need the `!important` here to be able to override the default hidden behavior on the sphinx rendered scikit-learn.org. See: https://github.com/scikit-learn/scikit-learn/issues/21755 */display: inline-block !important;position: relative;}#sk-container-id-2 div.sk-text-repr-fallback {display: none;}</style><div id=\"sk-container-id-2\" class=\"sk-top-container\"><div class=\"sk-text-repr-fallback\"><pre>KNeighborsClassifier()</pre><b>In a Jupyter environment, please rerun this cell to show the HTML representation or trust the notebook. <br />On GitHub, the HTML representation is unable to render, please try loading this page with nbviewer.org.</b></div><div class=\"sk-container\" hidden><div class=\"sk-item\"><div class=\"sk-estimator sk-toggleable\"><input class=\"sk-toggleable__control sk-hidden--visually\" id=\"sk-estimator-id-2\" type=\"checkbox\" checked><label for=\"sk-estimator-id-2\" class=\"sk-toggleable__label sk-toggleable__label-arrow\">KNeighborsClassifier</label><div class=\"sk-toggleable__content\"><pre>KNeighborsClassifier()</pre></div></div></div></div></div>"
      ],
      "text/plain": [
       "KNeighborsClassifier()"
      ]
     },
     "execution_count": 47,
     "metadata": {},
     "output_type": "execute_result"
    }
   ],
   "source": [
    "from sklearn.neighbors import KNeighborsClassifier\n",
    "\n",
    "model_knn = KNeighborsClassifier(n_neighbors=5)\n",
    "\n",
    "model_knn.fit(X_train, y_train)"
   ]
  },
  {
   "cell_type": "code",
   "execution_count": 48,
   "id": "9ca7434c",
   "metadata": {},
   "outputs": [],
   "source": [
    "predictions_knn = model_knn.predict(X_test)"
   ]
  },
  {
   "cell_type": "code",
   "execution_count": 49,
   "id": "40545e04",
   "metadata": {},
   "outputs": [
    {
     "name": "stdout",
     "output_type": "stream",
     "text": [
      "              precision    recall  f1-score   support\n",
      "\n",
      "           0       0.98      0.98      0.98        56\n",
      "           1       0.97      0.97      0.97        34\n",
      "\n",
      "    accuracy                           0.98        90\n",
      "   macro avg       0.98      0.98      0.98        90\n",
      "weighted avg       0.98      0.98      0.98        90\n",
      "\n"
     ]
    }
   ],
   "source": [
    "from sklearn.metrics import classification_report\n",
    "\n",
    "print(classification_report(y_test, predictions_knn))"
   ]
  },
  {
   "cell_type": "code",
   "execution_count": 50,
   "id": "7bb0a0bb",
   "metadata": {},
   "outputs": [
    {
     "data": {
      "text/plain": [
       "<Axes: xlabel='prediction', ylabel='Actual'>"
      ]
     },
     "execution_count": 50,
     "metadata": {},
     "output_type": "execute_result"
    },
    {
     "data": {
      "image/png": "[encoded data removed]",
      "text/plain": [
       "<Figure size 640x480 with 2 Axes>"
      ]
     },
     "metadata": {},
     "output_type": "display_data"
    }
   ],
   "source": [
    "confusion_matrix = pd.crosstab(y_test, predictions_knn, rownames=['Actual'], colnames=['prediction'])\n",
    "\n",
    "sb.heatmap(confusion_matrix, annot=True)"
   ]
  },
  {
   "cell_type": "code",
   "execution_count": 51,
   "id": "5aef4d26",
   "metadata": {},
   "outputs": [],
   "source": [
    "accuracy = accuracy_score(y_test, predictions_knn)"
   ]
  },
  {
   "cell_type": "code",
   "execution_count": 52,
   "id": "973deff0",
   "metadata": {},
   "outputs": [
    {
     "data": {
      "text/plain": [
       "0.9777777777777777"
      ]
     },
     "execution_count": 52,
     "metadata": {},
     "output_type": "execute_result"
    }
   ],
   "source": [
    "accuracy"
   ]
  },
  {
   "cell_type": "markdown",
   "id": "bfcf49e3",
   "metadata": {},
   "source": [
    "##### Model Persistence"
   ]
  },
  {
   "cell_type": "code",
   "execution_count": 53,
   "id": "edd1af59",
   "metadata": {},
   "outputs": [
    {
     "data": {
      "text/plain": [
       "['cancer_model_knn.joblib']"
      ]
     },
     "execution_count": 53,
     "metadata": {},
     "output_type": "execute_result"
    }
   ],
   "source": [
    "import joblib\n",
    "\n",
    "joblib.dump(model_knn, 'cancer_model_knn.joblib')"
   ]
  },
  {
   "cell_type": "code",
   "execution_count": null,
   "id": "c65219d6",
   "metadata": {},
   "outputs": [],
   "source": []
  }
 ],
 "metadata": {
  "kernelspec": {
   "display_name": "Python 3 (ipykernel)",
   "language": "python",
   "name": "python3"
  },
  "language_info": {
   "codemirror_mode": {
    "name": "ipython",
    "version": 3
   },
   "file_extension": ".py",
   "mimetype": "text/x-python",
   "name": "python",
   "nbconvert_exporter": "python",
   "pygments_lexer": "ipython3",
   "version": "3.11.5"
  }
 },
 "nbformat": 4,
 "nbformat_minor": 5
}
